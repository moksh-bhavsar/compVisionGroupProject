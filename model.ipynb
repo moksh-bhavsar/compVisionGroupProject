{
 "cells": [
  {
   "cell_type": "code",
   "execution_count": 79,
   "metadata": {},
   "outputs": [
    {
     "name": "stderr",
     "output_type": "stream",
     "text": [
      "huggingface/tokenizers: The current process just got forked, after parallelism has already been used. Disabling parallelism to avoid deadlocks...\n",
      "To disable this warning, you can either:\n",
      "\t- Avoid using `tokenizers` before the fork if possible\n",
      "\t- Explicitly set the environment variable TOKENIZERS_PARALLELISM=(true | false)\n"
     ]
    },
    {
     "name": "stdout",
     "output_type": "stream",
     "text": [
      "Note: you may need to restart the kernel to use updated packages.\n"
     ]
    },
    {
     "name": "stderr",
     "output_type": "stream",
     "text": [
      "huggingface/tokenizers: The current process just got forked, after parallelism has already been used. Disabling parallelism to avoid deadlocks...\n",
      "To disable this warning, you can either:\n",
      "\t- Avoid using `tokenizers` before the fork if possible\n",
      "\t- Explicitly set the environment variable TOKENIZERS_PARALLELISM=(true | false)\n"
     ]
    },
    {
     "name": "stdout",
     "output_type": "stream",
     "text": [
      "Note: you may need to restart the kernel to use updated packages.\n"
     ]
    },
    {
     "name": "stderr",
     "output_type": "stream",
     "text": [
      "WARNING: Ignoring invalid distribution -p (c:\\python310\\lib\\site-packages)\n",
      "WARNING: Ignoring invalid distribution -p (c:\\python310\\lib\\site-packages)\n",
      "WARNING: Ignoring invalid distribution -ip (c:\\python310\\lib\\site-packages)\n",
      "WARNING: Ignoring invalid distribution - (c:\\python310\\lib\\site-packages)\n",
      "WARNING: Ignoring invalid distribution -p (c:\\python310\\lib\\site-packages)\n",
      "WARNING: Ignoring invalid distribution -p (c:\\python310\\lib\\site-packages)\n",
      "WARNING: Ignoring invalid distribution -ip (c:\\python310\\lib\\site-packages)\n",
      "WARNING: Ignoring invalid distribution - (c:\\python310\\lib\\site-packages)\n",
      "WARNING: Ignoring invalid distribution -p (c:\\python310\\lib\\site-packages)\n",
      "WARNING: Ignoring invalid distribution -p (c:\\python310\\lib\\site-packages)\n",
      "WARNING: Ignoring invalid distribution -ip (c:\\python310\\lib\\site-packages)\n",
      "WARNING: Ignoring invalid distribution - (c:\\python310\\lib\\site-packages)\n",
      "  WARNING: Failed to write executable - trying to use .deleteme logic\n",
      "ERROR: Could not install packages due to an OSError: [WinError 2] The system cannot find the file specified: 'c:\\\\Python310\\\\Scripts\\\\cpuinfo.exe' -> 'c:\\\\Python310\\\\Scripts\\\\cpuinfo.exe.deleteme'\n",
      "\n",
      "WARNING: Ignoring invalid distribution -p (c:\\python310\\lib\\site-packages)\n",
      "WARNING: Ignoring invalid distribution -p (c:\\python310\\lib\\site-packages)\n",
      "WARNING: Ignoring invalid distribution -ip (c:\\python310\\lib\\site-packages)\n",
      "WARNING: Ignoring invalid distribution - (c:\\python310\\lib\\site-packages)\n",
      "WARNING: Ignoring invalid distribution -p (c:\\python310\\lib\\site-packages)\n",
      "WARNING: Ignoring invalid distribution -p (c:\\python310\\lib\\site-packages)\n",
      "WARNING: Ignoring invalid distribution -ip (c:\\python310\\lib\\site-packages)\n",
      "WARNING: Ignoring invalid distribution - (c:\\python310\\lib\\site-packages)\n",
      "WARNING: Ignoring invalid distribution -p (c:\\python310\\lib\\site-packages)\n",
      "WARNING: Ignoring invalid distribution -p (c:\\python310\\lib\\site-packages)\n",
      "WARNING: Ignoring invalid distribution -ip (c:\\python310\\lib\\site-packages)\n",
      "WARNING: Ignoring invalid distribution - (c:\\python310\\lib\\site-packages)\n",
      "WARNING: You are using pip version 22.0.4; however, version 24.0 is available.\n",
      "You should consider upgrading via the 'c:\\Python310\\python.exe -m pip install --upgrade pip' command.\n"
     ]
    },
    {
     "name": "stdout",
     "output_type": "stream",
     "text": [
      "Note: you may need to restart the kernel to use updated packages.\n"
     ]
    },
    {
     "name": "stderr",
     "output_type": "stream",
     "text": [
      "WARNING: Ignoring invalid distribution -p (c:\\python310\\lib\\site-packages)\n",
      "WARNING: Ignoring invalid distribution -p (c:\\python310\\lib\\site-packages)\n",
      "WARNING: Ignoring invalid distribution -ip (c:\\python310\\lib\\site-packages)\n",
      "WARNING: Ignoring invalid distribution - (c:\\python310\\lib\\site-packages)\n",
      "WARNING: Ignoring invalid distribution -p (c:\\python310\\lib\\site-packages)\n",
      "WARNING: Ignoring invalid distribution -p (c:\\python310\\lib\\site-packages)\n",
      "WARNING: Ignoring invalid distribution -ip (c:\\python310\\lib\\site-packages)\n",
      "WARNING: Ignoring invalid distribution - (c:\\python310\\lib\\site-packages)\n",
      "WARNING: Ignoring invalid distribution -p (c:\\python310\\lib\\site-packages)\n",
      "WARNING: Ignoring invalid distribution -p (c:\\python310\\lib\\site-packages)\n",
      "WARNING: Ignoring invalid distribution -ip (c:\\python310\\lib\\site-packages)\n",
      "WARNING: Ignoring invalid distribution - (c:\\python310\\lib\\site-packages)\n",
      "  WARNING: Failed to write executable - trying to use .deleteme logic\n",
      "ERROR: Could not install packages due to an OSError: [WinError 2] The system cannot find the file specified: 'c:\\\\Python310\\\\Scripts\\\\tqdm.exe' -> 'c:\\\\Python310\\\\Scripts\\\\tqdm.exe.deleteme'\n",
      "\n",
      "WARNING: Ignoring invalid distribution -p (c:\\python310\\lib\\site-packages)\n",
      "WARNING: Ignoring invalid distribution -p (c:\\python310\\lib\\site-packages)\n",
      "WARNING: Ignoring invalid distribution -ip (c:\\python310\\lib\\site-packages)\n",
      "WARNING: Ignoring invalid distribution - (c:\\python310\\lib\\site-packages)\n",
      "WARNING: Ignoring invalid distribution -p (c:\\python310\\lib\\site-packages)\n",
      "WARNING: Ignoring invalid distribution -p (c:\\python310\\lib\\site-packages)\n",
      "WARNING: Ignoring invalid distribution -ip (c:\\python310\\lib\\site-packages)\n",
      "WARNING: Ignoring invalid distribution - (c:\\python310\\lib\\site-packages)\n",
      "WARNING: Ignoring invalid distribution -p (c:\\python310\\lib\\site-packages)\n",
      "WARNING: Ignoring invalid distribution -p (c:\\python310\\lib\\site-packages)\n",
      "WARNING: Ignoring invalid distribution -ip (c:\\python310\\lib\\site-packages)\n",
      "WARNING: Ignoring invalid distribution - (c:\\python310\\lib\\site-packages)\n",
      "WARNING: You are using pip version 22.0.4; however, version 24.0 is available.\n",
      "You should consider upgrading via the 'c:\\Python310\\python.exe -m pip install --upgrade pip' command.\n"
     ]
    }
   ],
   "source": [
    "# installing necessary libraries\n",
    "%pip install --quiet ultralytics\n",
    "%pip install --quiet transformers\n",
    "%pip install --quiet torch\n",
    "%pip install --quiet cv2"
   ]
  },
  {
   "cell_type": "code",
<<<<<<< HEAD
   "execution_count": null,
   "execution_count": 59,
=======
   "execution_count": 162,
>>>>>>> 3dd2e8b236f6895dd8407c82ab9828d86bc6b208
   "metadata": {},
   "outputs": [],
   "source": [
    "# importing libraries and the required modules\n",
    "from ultralytics import YOLO\n",
    "from transformers import CLIPModel, CLIPProcessor, CLIPImageProcessor\n",
    "import torch\n",
    "from PIL import Image\n",
    "import cv2 as cv\n",
    "import os"
   ]
  },
  {
   "cell_type": "code",
<<<<<<< HEAD
   "execution_count": null,
   "execution_count": 97,
=======
   "execution_count": 81,
>>>>>>> 3dd2e8b236f6895dd8407c82ab9828d86bc6b208
   "metadata": {},
   "outputs": [],
   "source": [
    "# We already trained the YOLO model and are using the weights from it to load our model\n",
    "model_YOLO = YOLO(model=\"runs/detect/train/weights/best.pt\")"
   ]
  },
  {
   "cell_type": "code",
<<<<<<< HEAD
   "execution_count": null,
=======
   "execution_count": 82,
>>>>>>> 3dd2e8b236f6895dd8407c82ab9828d86bc6b208
   "metadata": {},
   "outputs": [],
   "source": [
    "# import xml.etree.ElementTree as ET\n",
    "\n",
    "# # Function to get the data from XML Annotation\n",
    "# def extract_info_from_xml(xml_file):\n",
    "#     root = ET.parse(xml_file).getroot()\n",
    "    \n",
    "#     # Initialise the info dict \n",
    "#     info_dict = {}\n",
    "#     info_dict['bboxes'] = []\n",
    "\n",
    "#     # Parse the XML Tree\n",
    "#     for elem in root:\n",
    "#         # Get the file name \n",
    "#         if elem.tag == \"filename\":\n",
    "#             info_dict['filename'] = elem.text\n",
    "\n",
    "#         # Get the image size\n",
    "#         elif elem.tag == \"size\":\n",
    "#             image_size = []\n",
    "#             for subelem in elem:\n",
    "#                 image_size.append(int(subelem.text))\n",
    "            \n",
    "#             info_dict['image_size'] = tuple(image_size)\n",
    "        \n",
    "#         # Get details of the bounding box \n",
    "#         elif elem.tag == \"object\":\n",
    "#             bbox = {}\n",
    "#             for subelem in elem:\n",
    "#                 if subelem.tag == \"name\":\n",
    "#                     bbox[\"class\"] = subelem.text\n",
    "                    \n",
    "#                 elif subelem.tag == \"bndbox\":\n",
    "#                     for subsubelem in subelem:\n",
    "#                         bbox[subsubelem.tag] = int(subsubelem.text)            \n",
    "#             info_dict['bboxes'].append(bbox)\n",
    "    \n",
    "#     return info_dict\n",
    "\n",
    "# # Dictionary that maps class names to IDs\n",
    "# class_name_to_id_mapping = {\"trafficlight\": 0,\n",
    "#                            \"stop\": 1,\n",
    "#                            \"speedlimit\": 2,\n",
    "#                            \"crosswalk\": 3}\n",
    "\n",
    "# # Convert the info dict to the required yolo format and write it to disk\n",
    "# def convert_to_yolov5(info_dict, rootpath='.', write_to_file=False):\n",
    "#     print_buffer = []\n",
    "    \n",
    "#     # For each bounding box\n",
    "#     for b in info_dict[\"bboxes\"]:\n",
    "#         try:\n",
    "#             class_id = class_name_to_id_mapping[b[\"class\"]]\n",
    "#         except KeyError:\n",
    "#             print(\"Invalid Class. Must be one from \", class_name_to_id_mapping.keys())\n",
    "        \n",
    "#         # Transform the bbox co-ordinates as per the format required by YOLO v5\n",
    "#         b_center_x = (b[\"xmin\"] + b[\"xmax\"]) / 2 \n",
    "#         b_center_y = (b[\"ymin\"] + b[\"ymax\"]) / 2\n",
    "#         b_width    = (b[\"xmax\"] - b[\"xmin\"])\n",
    "#         b_height   = (b[\"ymax\"] - b[\"ymin\"])\n",
    "        \n",
    "#         # Normalise the co-ordinates by the dimensions of the image\n",
    "#         image_w, image_h, image_c = info_dict[\"image_size\"]  \n",
    "#         b_center_x /= image_w \n",
    "#         b_center_y /= image_h \n",
    "#         b_width    /= image_w \n",
    "#         b_height   /= image_h \n",
    "        \n",
    "#         #Write the bbox details to the file \n",
    "#         print_buffer.append(\"{} {:.3f} {:.3f} {:.3f} {:.3f}\".format(class_id, b_center_x, b_center_y, b_width, b_height))\n",
    "\n",
    "#     if write_to_file:\n",
    "#         # Name of the file which we have to save \n",
    "#         save_file_name = os.path.join(rootpath, \"annotations\", info_dict[\"filename\"].replace(\"png\", \"txt\"))\n",
    "    \n",
    "#         # Save the annotation to disk\n",
    "#         print(\"\\n\".join(print_buffer), file= open(save_file_name, \"w\"))\n",
    "#     else:\n",
    "#         return print_buffer "
   ]
  },
  {
   "cell_type": "code",
<<<<<<< HEAD
   "execution_count": null,
=======
   "execution_count": 83,
>>>>>>> 3dd2e8b236f6895dd8407c82ab9828d86bc6b208
   "metadata": {},
   "outputs": [],
   "source": [
    "# import os\n",
    "# %pip install tqdm\n",
    "# from tqdm import tqdm\n",
    "\n",
    "# # Rootpath indicates the root folder where you have stored the road-sign-detection dataset\n",
    "# rootpath = \"/Users/moke/Comp Vision/groupProject/compVisionGroupProject/road-sign-detection\"\n",
    "\n",
    "# annotations = [os.path.join(rootpath,'annotations', x) for x in os.listdir(os.path.join(rootpath,'annotations')) if x[-3:] == \"xml\"]\n",
    "# annotations.sort()\n",
    "\n",
    "# for ann in tqdm(annotations):\n",
    "#     info_dict = extract_info_from_xml(ann)\n",
    "#     convert_to_yolov5(info_dict, rootpath=rootpath, write_to_file=True)\n",
    "# annotations = [os.path.join(rootpath,'annotations', x) for x in os.listdir(os.path.join(rootpath,'annotations')) if x[-3:] == \"txt\"]"
   ]
  },
  {
   "cell_type": "code",
<<<<<<< HEAD
   "execution_count": null,
=======
   "execution_count": 84,
>>>>>>> 3dd2e8b236f6895dd8407c82ab9828d86bc6b208
   "metadata": {},
   "outputs": [],
   "source": [
    "# import random\n",
    "# !pip install --quiet scikit-learn\n",
    "# from sklearn.model_selection import train_test_split\n",
    "\n",
    "# images = [os.path.join(rootpath, 'images', x) for x in os.listdir(os.path.join(rootpath, 'images'))]\n",
    "# annotations = [os.path.join(rootpath,'annotations', x) for x in os.listdir(os.path.join(rootpath,'annotations')) if x[-3:] == \"txt\"]\n",
    "\n",
    "# images.sort()\n",
    "# annotations.sort()\n",
    "\n",
    "# train_images, val_images, train_annotations, val_annotations = train_test_split(images, annotations, test_size = 0.2, random_state = 1)\n",
    "# val_images, test_images, val_annotations, test_annotations = train_test_split(val_images, val_annotations, test_size = 0.5, random_state = 1)"
   ]
  },
  {
   "cell_type": "code",
<<<<<<< HEAD
   "execution_count": null,
=======
   "execution_count": 85,
>>>>>>> 3dd2e8b236f6895dd8407c82ab9828d86bc6b208
   "metadata": {},
   "outputs": [],
   "source": [
    "# import shutil\n",
    "\n",
    "\n",
    "# def move_files_to_folder(list_of_files, destination_folder):\n",
    "#     for f in list_of_files:\n",
    "#         try:\n",
    "#             shutil.move(f, destination_folder)\n",
    "#         except:\n",
    "#             print(f)\n",
    "#             assert False"
   ]
  },
  {
   "cell_type": "code",
<<<<<<< HEAD
   "execution_count": null,
=======
   "execution_count": 86,
>>>>>>> 3dd2e8b236f6895dd8407c82ab9828d86bc6b208
   "metadata": {},
   "outputs": [],
   "source": [
    "# move_files_to_folder(train_images, 'road-sign-detection/images/train')\n",
    "# move_files_to_folder(val_images, 'road-sign-detection/images/val')\n",
    "# move_files_to_folder(test_images, 'road-sign-detection/images/test')\n",
    "# move_files_to_folder(train_annotations, 'road-sign-detection/labels/train/')\n",
    "# move_files_to_folder(val_annotations, 'road-sign-detection/labels/val/')\n",
    "# move_files_to_folder(test_annotations, 'road-sign-detection/labels/test/')"
   ]
  },
  {
   "cell_type": "code",
   "execution_count": 87,
   "metadata": {},
   "outputs": [],
   "source": [
    "# model_YOLO.train(data=\"./road_sign.yaml\", epochs=3)"
   ]
  },
  {
   "cell_type": "code",
   "execution_count": 125,
   "metadata": {},
   "outputs": [],
   "source": [
    "# The class we use to create labels from xml file for our dataset, same is used for yaml file for training\n",
    "class_name_to_id_mapping = {\"trafficlight\": 0,\n",
    "                           \"stop\": 1,\n",
    "                           \"speedlimit\": 2,\n",
    "                           \"crosswalk\": 3}"
   ]
  },
  {
   "cell_type": "code",
   "execution_count": 127,
   "metadata": {},
   "outputs": [],
   "source": [
    "# function to get the key based on value\n",
    "def get_key(val):\n",
    "   \n",
    "    for key, value in class_name_to_id_mapping.items():\n",
    "        if val == value:\n",
    "            return key\n",
    " \n",
    "    return \"key doesn't exist\""
   ]
  },
  {
   "cell_type": "code",
   "execution_count": 88,
   "metadata": {},
   "outputs": [
    {
     "name": "stderr",
     "output_type": "stream",
     "text": [
      "huggingface/tokenizers: The current process just got forked, after parallelism has already been used. Disabling parallelism to avoid deadlocks...\n",
      "To disable this warning, you can either:\n",
      "\t- Avoid using `tokenizers` before the fork if possible\n",
      "\t- Explicitly set the environment variable TOKENIZERS_PARALLELISM=(true | false)\n"
     ]
    },
    {
     "name": "stdout",
     "output_type": "stream",
     "text": [
      "Ultralytics YOLOv8.1.20 🚀 Python-3.11.6 torch-2.1.1 CPU (Intel Core(TM) i7-1060NG7 1.20GHz)\n",
      "YOLOv5n summary (fused): 193 layers, 2503724 parameters, 0 gradients, 7.1 GFLOPs\n"
     ]
    },
    {
     "name": "stderr",
     "output_type": "stream",
     "text": [
      "\u001b[34m\u001b[1mval: \u001b[0mScanning /Users/moke/Comp Vision/groupProject/compVisionGroupProject/road-sign-detection/labels/val.cache... 88 images, 0 backgrounds, 0 corrupt: 100%|██████████| 88/88 [00:00<?, ?it/s]\n",
      "                 Class     Images  Instances      Box(P          R      mAP50  mAP50-95): 100%|██████████| 6/6 [00:18<00:00,  3.05s/it]\n"
     ]
    },
    {
     "name": "stdout",
     "output_type": "stream",
     "text": [
      "                   all         88        126      0.954      0.611      0.799      0.676\n",
      "          trafficlight         88         20          1        0.2        0.6      0.438\n",
      "                  stop         88          7      0.833      0.714      0.833      0.673\n",
      "            speedlimit         88         76      0.984      0.789      0.892      0.811\n",
      "             crosswalk         88         23          1      0.739       0.87      0.781\n",
      "Speed: 4.5ms preprocess, 186.7ms inference, 0.0ms loss, 1.0ms postprocess per image\n",
      "Results saved to \u001b[1mruns/detect/val5\u001b[0m\n"
     ]
    }
   ],
   "source": [
    "# we have changed our test and val directory to get the metrics.\n",
    "metrics = model_YOLO.val(conf = 0.5)"
   ]
  },
  {
   "cell_type": "code",
   "execution_count": 89,
   "metadata": {},
   "outputs": [
    {
     "data": {
      "text/plain": [
       "{'metrics/precision(B)': 0.9542349726775956,\n",
       " 'metrics/recall(B)': 0.6107224583197124,\n",
       " 'metrics/mAP50(B)': 0.7988092896174863,\n",
       " 'metrics/mAP50-95(B)': 0.6758273875482012,\n",
       " 'fitness': 0.6881255777551296}"
      ]
     },
     "execution_count": 89,
     "metadata": {},
     "output_type": "execute_result"
    }
   ],
   "source": [
    "metrics.results_dict"
   ]
  },
  {
   "cell_type": "code",
   "execution_count": 92,
   "metadata": {},
   "outputs": [],
   "source": [
    "# a block of code to test how CLIP works\n",
    "model = CLIPModel.from_pretrained(\"openai/clip-vit-base-patch32\")\n",
    "processor = CLIPProcessor.from_pretrained(\"openai/clip-vit-base-patch32\")"
   ]
  },
  {
   "cell_type": "code",
   "execution_count": null,
   "metadata": {},
   "outputs": [
    {
     "name": "stdout",
     "output_type": "stream",
     "text": [
      "\n",
      "image 1/88 /Users/moke/Comp Vision/groupProject/compVisionGroupProject/road-sign-detection/images/val/road100.png: 640x640 (no detections), 329.5ms\n",
      "image 2/88 /Users/moke/Comp Vision/groupProject/compVisionGroupProject/road-sign-detection/images/val/road113.png: 448x640 (no detections), 243.9ms\n",
      "image 3/88 /Users/moke/Comp Vision/groupProject/compVisionGroupProject/road-sign-detection/images/val/road129.png: 448x640 1 trafficlight, 1 crosswalk, 268.0ms\n",
      "image 4/88 /Users/moke/Comp Vision/groupProject/compVisionGroupProject/road-sign-detection/images/val/road140.png: 448x640 1 crosswalk, 249.5ms\n",
      "image 5/88 /Users/moke/Comp Vision/groupProject/compVisionGroupProject/road-sign-detection/images/val/road142.png: 640x448 1 crosswalk, 278.3ms\n",
      "image 6/88 /Users/moke/Comp Vision/groupProject/compVisionGroupProject/road-sign-detection/images/val/road143.png: 640x448 1 crosswalk, 220.4ms\n",
      "image 7/88 /Users/moke/Comp Vision/groupProject/compVisionGroupProject/road-sign-detection/images/val/road157.png: 640x480 1 speedlimit, 397.0ms\n",
      "image 8/88 /Users/moke/Comp Vision/groupProject/compVisionGroupProject/road-sign-detection/images/val/road160.png: 640x480 1 stop, 1 crosswalk, 221.7ms\n",
      "image 9/88 /Users/moke/Comp Vision/groupProject/compVisionGroupProject/road-sign-detection/images/val/road164.png: 640x480 (no detections), 215.7ms\n",
      "image 10/88 /Users/moke/Comp Vision/groupProject/compVisionGroupProject/road-sign-detection/images/val/road174.png: 640x480 1 speedlimit, 233.7ms\n",
      "image 11/88 /Users/moke/Comp Vision/groupProject/compVisionGroupProject/road-sign-detection/images/val/road175.png: 640x480 1 speedlimit, 181.4ms\n",
      "image 12/88 /Users/moke/Comp Vision/groupProject/compVisionGroupProject/road-sign-detection/images/val/road18.png: 640x512 (no detections), 337.4ms\n",
      "image 13/88 /Users/moke/Comp Vision/groupProject/compVisionGroupProject/road-sign-detection/images/val/road183.png: 640x480 1 crosswalk, 233.5ms\n",
      "image 14/88 /Users/moke/Comp Vision/groupProject/compVisionGroupProject/road-sign-detection/images/val/road194.png: 640x480 1 crosswalk, 233.4ms\n",
      "image 15/88 /Users/moke/Comp Vision/groupProject/compVisionGroupProject/road-sign-detection/images/val/road199.png: 640x480 1 speedlimit, 233.4ms\n",
      "image 16/88 /Users/moke/Comp Vision/groupProject/compVisionGroupProject/road-sign-detection/images/val/road206.png: 640x480 (no detections), 230.0ms\n",
      "image 17/88 /Users/moke/Comp Vision/groupProject/compVisionGroupProject/road-sign-detection/images/val/road261.png: 640x480 1 speedlimit, 215.9ms\n",
      "image 18/88 /Users/moke/Comp Vision/groupProject/compVisionGroupProject/road-sign-detection/images/val/road267.png: 640x480 1 speedlimit, 192.0ms\n",
      "image 19/88 /Users/moke/Comp Vision/groupProject/compVisionGroupProject/road-sign-detection/images/val/road293.png: 640x480 1 speedlimit, 204.0ms\n",
      "image 20/88 /Users/moke/Comp Vision/groupProject/compVisionGroupProject/road-sign-detection/images/val/road3.png: 480x640 1 trafficlight, 240.9ms\n",
      "image 21/88 /Users/moke/Comp Vision/groupProject/compVisionGroupProject/road-sign-detection/images/val/road315.png: 640x480 1 speedlimit, 227.8ms\n",
      "image 22/88 /Users/moke/Comp Vision/groupProject/compVisionGroupProject/road-sign-detection/images/val/road316.png: 640x480 1 speedlimit, 1 crosswalk, 236.9ms\n",
      "image 23/88 /Users/moke/Comp Vision/groupProject/compVisionGroupProject/road-sign-detection/images/val/road318.png: 640x480 1 speedlimit, 1 crosswalk, 179.7ms\n",
      "image 24/88 /Users/moke/Comp Vision/groupProject/compVisionGroupProject/road-sign-detection/images/val/road321.png: 640x480 1 speedlimit, 1 crosswalk, 210.7ms\n",
      "image 25/88 /Users/moke/Comp Vision/groupProject/compVisionGroupProject/road-sign-detection/images/val/road328.png: 640x480 1 speedlimit, 278.5ms\n",
      "image 26/88 /Users/moke/Comp Vision/groupProject/compVisionGroupProject/road-sign-detection/images/val/road33.png: 640x448 (no detections), 186.9ms\n",
      "image 27/88 /Users/moke/Comp Vision/groupProject/compVisionGroupProject/road-sign-detection/images/val/road337.png: 640x480 1 speedlimit, 189.5ms\n",
      "image 28/88 /Users/moke/Comp Vision/groupProject/compVisionGroupProject/road-sign-detection/images/val/road356.png: 640x480 (no detections), 198.0ms\n",
      "image 29/88 /Users/moke/Comp Vision/groupProject/compVisionGroupProject/road-sign-detection/images/val/road360.png: 640x480 1 speedlimit, 201.3ms\n",
      "image 30/88 /Users/moke/Comp Vision/groupProject/compVisionGroupProject/road-sign-detection/images/val/road367.png: 640x480 1 speedlimit, 191.0ms\n",
      "image 31/88 /Users/moke/Comp Vision/groupProject/compVisionGroupProject/road-sign-detection/images/val/road37.png: 640x448 1 trafficlight, 203.1ms\n",
      "image 32/88 /Users/moke/Comp Vision/groupProject/compVisionGroupProject/road-sign-detection/images/val/road385.png: 640x480 1 speedlimit, 225.5ms\n",
      "image 33/88 /Users/moke/Comp Vision/groupProject/compVisionGroupProject/road-sign-detection/images/val/road403.png: 640x480 1 speedlimit, 179.0ms\n",
      "image 34/88 /Users/moke/Comp Vision/groupProject/compVisionGroupProject/road-sign-detection/images/val/road408.png: 640x480 (no detections), 178.1ms\n",
      "image 35/88 /Users/moke/Comp Vision/groupProject/compVisionGroupProject/road-sign-detection/images/val/road417.png: 640x480 1 speedlimit, 173.7ms\n",
      "image 36/88 /Users/moke/Comp Vision/groupProject/compVisionGroupProject/road-sign-detection/images/val/road418.png: 640x480 1 speedlimit, 194.2ms\n",
      "image 37/88 /Users/moke/Comp Vision/groupProject/compVisionGroupProject/road-sign-detection/images/val/road43.png: 448x640 (no detections), 163.2ms\n",
      "image 38/88 /Users/moke/Comp Vision/groupProject/compVisionGroupProject/road-sign-detection/images/val/road431.png: 640x480 1 speedlimit, 182.4ms\n",
      "image 39/88 /Users/moke/Comp Vision/groupProject/compVisionGroupProject/road-sign-detection/images/val/road433.png: 640x480 1 speedlimit, 178.1ms\n",
      "image 40/88 /Users/moke/Comp Vision/groupProject/compVisionGroupProject/road-sign-detection/images/val/road445.png: 640x480 1 speedlimit, 171.5ms\n",
      "image 41/88 /Users/moke/Comp Vision/groupProject/compVisionGroupProject/road-sign-detection/images/val/road47.png: 448x640 (no detections), 243.3ms\n",
      "image 42/88 /Users/moke/Comp Vision/groupProject/compVisionGroupProject/road-sign-detection/images/val/road486.png: 640x480 1 speedlimit, 244.5ms\n",
      "image 43/88 /Users/moke/Comp Vision/groupProject/compVisionGroupProject/road-sign-detection/images/val/road490.png: 640x480 1 speedlimit, 188.1ms\n",
      "image 44/88 /Users/moke/Comp Vision/groupProject/compVisionGroupProject/road-sign-detection/images/val/road492.png: 640x480 1 speedlimit, 172.5ms\n",
      "image 45/88 /Users/moke/Comp Vision/groupProject/compVisionGroupProject/road-sign-detection/images/val/road494.png: 640x480 (no detections), 174.3ms\n",
      "image 46/88 /Users/moke/Comp Vision/groupProject/compVisionGroupProject/road-sign-detection/images/val/road498.png: 640x480 1 speedlimit, 168.8ms\n",
      "image 47/88 /Users/moke/Comp Vision/groupProject/compVisionGroupProject/road-sign-detection/images/val/road50.png: 640x448 (no detections), 165.8ms\n",
      "image 48/88 /Users/moke/Comp Vision/groupProject/compVisionGroupProject/road-sign-detection/images/val/road543.png: 640x480 1 speedlimit, 173.9ms\n",
      "image 49/88 /Users/moke/Comp Vision/groupProject/compVisionGroupProject/road-sign-detection/images/val/road547.png: 640x480 1 speedlimit, 2 crosswalks, 178.8ms\n",
      "image 50/88 /Users/moke/Comp Vision/groupProject/compVisionGroupProject/road-sign-detection/images/val/road550.png: 640x480 1 speedlimit, 184.9ms\n",
      "image 51/88 /Users/moke/Comp Vision/groupProject/compVisionGroupProject/road-sign-detection/images/val/road558.png: 640x480 1 speedlimit, 166.4ms\n",
      "image 52/88 /Users/moke/Comp Vision/groupProject/compVisionGroupProject/road-sign-detection/images/val/road563.png: 640x480 1 speedlimit, 1 crosswalk, 175.7ms\n",
      "image 53/88 /Users/moke/Comp Vision/groupProject/compVisionGroupProject/road-sign-detection/images/val/road564.png: 640x480 1 speedlimit, 1 crosswalk, 217.7ms\n",
      "image 54/88 /Users/moke/Comp Vision/groupProject/compVisionGroupProject/road-sign-detection/images/val/road590.png: 640x480 1 speedlimit, 206.2ms\n",
      "image 55/88 /Users/moke/Comp Vision/groupProject/compVisionGroupProject/road-sign-detection/images/val/road599.png: 640x480 1 speedlimit, 161.3ms\n",
      "image 56/88 /Users/moke/Comp Vision/groupProject/compVisionGroupProject/road-sign-detection/images/val/road600.png: 640x480 1 speedlimit, 176.3ms\n",
      "image 57/88 /Users/moke/Comp Vision/groupProject/compVisionGroupProject/road-sign-detection/images/val/road609.png: 640x480 1 speedlimit, 1 crosswalk, 177.6ms\n",
      "image 58/88 /Users/moke/Comp Vision/groupProject/compVisionGroupProject/road-sign-detection/images/val/road617.png: 640x480 1 speedlimit, 175.1ms\n",
      "image 59/88 /Users/moke/Comp Vision/groupProject/compVisionGroupProject/road-sign-detection/images/val/road625.png: 640x480 1 speedlimit, 168.9ms\n",
      "image 60/88 /Users/moke/Comp Vision/groupProject/compVisionGroupProject/road-sign-detection/images/val/road640.png: 640x480 1 speedlimit, 164.4ms\n",
      "image 61/88 /Users/moke/Comp Vision/groupProject/compVisionGroupProject/road-sign-detection/images/val/road643.png: 640x480 (no detections), 169.7ms\n",
      "image 62/88 /Users/moke/Comp Vision/groupProject/compVisionGroupProject/road-sign-detection/images/val/road661.png: 640x480 1 speedlimit, 189.0ms\n",
      "image 63/88 /Users/moke/Comp Vision/groupProject/compVisionGroupProject/road-sign-detection/images/val/road665.png: 640x480 1 speedlimit, 223.6ms\n",
      "image 64/88 /Users/moke/Comp Vision/groupProject/compVisionGroupProject/road-sign-detection/images/val/road667.png: 640x480 1 speedlimit, 220.8ms\n",
      "image 65/88 /Users/moke/Comp Vision/groupProject/compVisionGroupProject/road-sign-detection/images/val/road67.png: 448x640 1 stop, 194.2ms\n",
      "image 66/88 /Users/moke/Comp Vision/groupProject/compVisionGroupProject/road-sign-detection/images/val/road672.png: 640x480 (no detections), 178.1ms\n",
      "image 67/88 /Users/moke/Comp Vision/groupProject/compVisionGroupProject/road-sign-detection/images/val/road679.png: 640x480 1 speedlimit, 162.2ms\n",
      "image 68/88 /Users/moke/Comp Vision/groupProject/compVisionGroupProject/road-sign-detection/images/val/road695.png: 640x480 (no detections), 167.7ms\n",
      "image 69/88 /Users/moke/Comp Vision/groupProject/compVisionGroupProject/road-sign-detection/images/val/road709.png: 640x480 (no detections), 277.8ms\n",
      "image 70/88 /Users/moke/Comp Vision/groupProject/compVisionGroupProject/road-sign-detection/images/val/road712.png: 640x480 (no detections), 192.4ms\n",
      "image 71/88 /Users/moke/Comp Vision/groupProject/compVisionGroupProject/road-sign-detection/images/val/road721.png: 640x480 1 speedlimit, 182.9ms\n",
      "image 72/88 /Users/moke/Comp Vision/groupProject/compVisionGroupProject/road-sign-detection/images/val/road730.png: 640x480 2 speedlimits, 197.4ms\n",
      "image 73/88 /Users/moke/Comp Vision/groupProject/compVisionGroupProject/road-sign-detection/images/val/road731.png: 640x480 2 speedlimits, 169.7ms\n",
      "image 74/88 /Users/moke/Comp Vision/groupProject/compVisionGroupProject/road-sign-detection/images/val/road748.png: 640x480 (no detections), 183.6ms\n",
      "image 75/88 /Users/moke/Comp Vision/groupProject/compVisionGroupProject/road-sign-detection/images/val/road764.png: 640x480 1 speedlimit, 214.3ms\n",
      "image 76/88 /Users/moke/Comp Vision/groupProject/compVisionGroupProject/road-sign-detection/images/val/road784.png: 640x480 1 speedlimit, 1 crosswalk, 184.4ms\n",
      "image 77/88 /Users/moke/Comp Vision/groupProject/compVisionGroupProject/road-sign-detection/images/val/road789.png: 640x480 1 speedlimit, 193.2ms\n",
      "image 78/88 /Users/moke/Comp Vision/groupProject/compVisionGroupProject/road-sign-detection/images/val/road796.png: 640x480 (no detections), 173.6ms\n",
      "image 79/88 /Users/moke/Comp Vision/groupProject/compVisionGroupProject/road-sign-detection/images/val/road80.png: 640x640 2 stops, 231.7ms\n",
      "image 80/88 /Users/moke/Comp Vision/groupProject/compVisionGroupProject/road-sign-detection/images/val/road801.png: 640x480 1 speedlimit, 169.5ms\n",
      "image 81/88 /Users/moke/Comp Vision/groupProject/compVisionGroupProject/road-sign-detection/images/val/road803.png: 640x480 1 speedlimit, 171.3ms\n",
      "image 82/88 /Users/moke/Comp Vision/groupProject/compVisionGroupProject/road-sign-detection/images/val/road804.png: 640x480 1 speedlimit, 188.9ms\n",
      "image 83/88 /Users/moke/Comp Vision/groupProject/compVisionGroupProject/road-sign-detection/images/val/road809.png: 640x480 1 speedlimit, 187.1ms\n",
      "image 84/88 /Users/moke/Comp Vision/groupProject/compVisionGroupProject/road-sign-detection/images/val/road819.png: 640x480 (no detections), 216.9ms\n",
      "image 85/88 /Users/moke/Comp Vision/groupProject/compVisionGroupProject/road-sign-detection/images/val/road841.png: 640x480 1 speedlimit, 1 crosswalk, 259.2ms\n",
      "image 86/88 /Users/moke/Comp Vision/groupProject/compVisionGroupProject/road-sign-detection/images/val/road854.png: 640x480 1 speedlimit, 195.4ms\n",
      "image 87/88 /Users/moke/Comp Vision/groupProject/compVisionGroupProject/road-sign-detection/images/val/road91.png: 640x640 1 stop, 222.4ms\n",
      "image 88/88 /Users/moke/Comp Vision/groupProject/compVisionGroupProject/road-sign-detection/images/val/road96.png: 448x640 1 stop, 154.2ms\n",
      "Speed: 5.4ms preprocess, 205.3ms inference, 1.0ms postprocess per image at shape (1, 3, 448, 640)\n",
      "Results saved to \u001b[1mruns/detect/predict2\u001b[0m\n"
     ]
    }
   ],
   "source": [
    "test_path = \"road-sign-detection/images/val/\"\n",
    "result = model_YOLO.predict(source=test_path, conf = 0.5, save_crop = True)"
   ]
  },
  {
   "cell_type": "code",
   "execution_count": 93,
   "metadata": {},
   "outputs": [
    {
     "name": "stderr",
     "output_type": "stream",
     "text": [
      "huggingface/tokenizers: The current process just got forked, after parallelism has already been used. Disabling parallelism to avoid deadlocks...\n",
      "To disable this warning, you can either:\n",
      "\t- Avoid using `tokenizers` before the fork if possible\n",
      "\t- Explicitly set the environment variable TOKENIZERS_PARALLELISM=(true | false)\n"
     ]
    },
    {
     "name": "stdout",
     "output_type": "stream",
     "text": [
      "\n",
      "image 1/1 /Users/moke/Comp Vision/groupProject/compVisionGroupProject/road-sign-detection/images/val/road321.png: 640x480 1 speedlimit, 1 crosswalk, 242.6ms\n",
      "Speed: 2.9ms preprocess, 242.6ms inference, 1.0ms postprocess per image at shape (1, 3, 640, 480)\n"
     ]
    }
   ],
   "source": [
    "# Run YOLO for object detection\n",
    "with torch.no_grad():\n",
    "    predictions = model_YOLO.predict(\"road-sign-detection/images/val/road321.png\")\n",
    "    boxes = predictions[0].boxes.xyxy\n"
   ]
  },
  {
   "cell_type": "code",
   "execution_count": 94,
   "metadata": {},
   "outputs": [
    {
     "data": {
      "text/plain": [
       "tensor([[134.21416, 171.58974, 176.27206, 212.39563],\n",
       "        [ 73.86993, 287.23798, 102.32633, 315.04105]])"
      ]
     },
     "execution_count": 94,
     "metadata": {},
     "output_type": "execute_result"
    }
   ],
   "source": [
    "boxes"
   ]
  },
  {
   "cell_type": "code",
   "execution_count": 95,
   "metadata": {},
   "outputs": [
    {
     "data": {
      "text/plain": [
       "ultralytics.engine.results.Boxes object with attributes:\n",
       "\n",
       "cls: tensor([2., 3.])\n",
       "conf: tensor([0.67903, 0.64175])\n",
       "data: tensor([[134.21416, 171.58974, 176.27206, 212.39563,   0.67903,   2.00000],\n",
       "        [ 73.86993, 287.23798, 102.32633, 315.04105,   0.64175,   3.00000]])\n",
       "id: None\n",
       "is_track: False\n",
       "orig_shape: (400, 300)\n",
       "shape: torch.Size([2, 6])\n",
       "xywh: tensor([[155.24310, 191.99268,  42.05791,  40.80589],\n",
       "        [ 88.09813, 301.13953,  28.45640,  27.80307]])\n",
       "xywhn: tensor([[0.51748, 0.47998, 0.14019, 0.10201],\n",
       "        [0.29366, 0.75285, 0.09485, 0.06951]])\n",
       "xyxy: tensor([[134.21416, 171.58974, 176.27206, 212.39563],\n",
       "        [ 73.86993, 287.23798, 102.32633, 315.04105]])\n",
       "xyxyn: tensor([[0.44738, 0.42897, 0.58757, 0.53099],\n",
       "        [0.24623, 0.71809, 0.34109, 0.78760]])"
      ]
     },
     "execution_count": 95,
     "metadata": {},
     "output_type": "execute_result"
    }
   ],
   "source": [
    "predictions[0].boxes"
   ]
  },
  {
   "cell_type": "code",
   "execution_count": 163,
   "metadata": {},
   "outputs": [
    {
     "name": "stderr",
     "output_type": "stream",
     "text": [
      "Unused or unrecognized kwargs: padding.\n"
     ]
    }
   ],
   "source": [
    "inputs = processor(text=[\"traffic light\", \"stop\",\"speed limit\", \"crosswalk\"], images=Image.open(\"road-sign-detection/images/val/road321.png\"), return_tensors=\"pt\", padding=True)"
   ]
  },
  {
   "cell_type": "code",
   "execution_count": 164,
   "metadata": {},
   "outputs": [
    {
     "data": {
      "text/plain": [
       "tensor([[49406,  3399,  1395, 49407],\n",
       "        [49406,  1691, 49407, 49407],\n",
       "        [49406,  4163,  9973, 49407],\n",
       "        [49406,  5266,  2374, 49407]])"
      ]
     },
     "execution_count": 164,
     "metadata": {},
     "output_type": "execute_result"
    }
   ],
   "source": [
    "inputs['input_ids']"
   ]
  },
  {
   "cell_type": "code",
   "execution_count": 165,
   "metadata": {},
   "outputs": [],
   "source": [
    "outputs = model(**inputs)"
   ]
  },
  {
   "cell_type": "code",
   "execution_count": 166,
   "metadata": {},
   "outputs": [],
   "source": [
    "logits_per_image = outputs.logits_per_image  # this is the image-text similarity score\n",
    "probs = logits_per_image.softmax(dim=1)"
   ]
  },
  {
   "cell_type": "code",
   "execution_count": 167,
   "metadata": {},
   "outputs": [
    {
     "data": {
      "text/plain": [
       "tensor(2)"
      ]
     },
     "execution_count": 167,
     "metadata": {},
     "output_type": "execute_result"
    }
   ],
   "source": [
    "logits_per_image.argmax()"
   ]
  },
  {
   "cell_type": "code",
   "execution_count": 111,
   "metadata": {},
   "outputs": [
    {
     "data": {
      "text/plain": [
       "odict_keys(['logits_per_image', 'logits_per_text', 'text_embeds', 'image_embeds', 'text_model_output', 'vision_model_output'])"
      ]
     },
     "execution_count": 111,
     "metadata": {},
     "output_type": "execute_result"
    }
   ],
   "source": [
    "outputs.keys()"
   ]
  },
  {
   "cell_type": "code",
   "execution_count": 186,
   "metadata": {},
   "outputs": [],
   "source": [
    "# a function that takes a directory and passes the images inside it \n",
    "# to YOLO and we use the YOLO output and pass it to CLIP model with same classes\n",
    "def yolo_clip(file_dir:str):\n",
    "\n",
    "    # intializing out YOLO, CLIPProcessor and CLIPModel\n",
    "    yolo_model = YOLO(model=\"runs/detect/train/weights/best.pt\")\n",
    "    clip_model = CLIPModel.from_pretrained(\"openai/clip-vit-base-patch32\")\n",
    "    clip_processor = CLIPProcessor.from_pretrained(\"openai/clip-vit-base-patch32\", pretrained=True)\n",
    "\n",
    "    # applying YOLO on the whole directory at once since it allows that capability\n",
    "    results = yolo_model.predict(file_dir)\n",
    "\n",
    "    # looping through each image and passing it to CLIP Model\n",
    "    for result in results:\n",
    "\n",
    "        # we retrieve the original image from the YOLO results\n",
    "        orig_image = result.orig_img\n",
    "\n",
    "        # convert the image to RGB\n",
    "        orig_image = cv.cvtColor(orig_image, cv.COLOR_BGR2RGB)\n",
    "\n",
    "        # we loop through each object detected by YOLO\n",
    "        for i in range(len(result.boxes.cls)):\n",
    "            \n",
    "            # x1, x2, y1, y2 = map(int, result.boxes.xyxy[i])\n",
    "            \n",
    "            # cls = get_key(result.boxes.cls[i])\n",
    "            # text = \"a\" + cls\n",
    "            # we process the images and the classes we have to find similarity\n",
    "            inputs = clip_processor(images=orig_image, return_tensors=\"pt\", text=[\"trafficlight\", \"stop\", \"speedlimit\", \"crosswalk\"], padding=True)\n",
    "            \n",
    "            # we provide the preprocessed data to the model\n",
    "            outputs = model(**inputs)\n",
    "            \n",
    "            # we output the probability of each class\n",
    "            print(outputs.logits_per_image.softmax(dim=1))\n",
    "            "
   ]
  },
  {
   "cell_type": "code",
   "execution_count": 187,
   "metadata": {},
   "outputs": [
    {
     "name": "stderr",
     "output_type": "stream",
     "text": [
      "huggingface/tokenizers: The current process just got forked, after parallelism has already been used. Disabling parallelism to avoid deadlocks...\n",
      "To disable this warning, you can either:\n",
      "\t- Avoid using `tokenizers` before the fork if possible\n",
      "\t- Explicitly set the environment variable TOKENIZERS_PARALLELISM=(true | false)\n"
     ]
    },
    {
     "name": "stdout",
     "output_type": "stream",
     "text": [
      "\n",
      "image 1/88 /Users/moke/Comp Vision/groupProject/compVisionGroupProject/road-sign-detection/images/val/road100.png: 640x640 (no detections), 183.6ms\n",
      "image 2/88 /Users/moke/Comp Vision/groupProject/compVisionGroupProject/road-sign-detection/images/val/road113.png: 448x640 (no detections), 128.0ms\n",
      "image 3/88 /Users/moke/Comp Vision/groupProject/compVisionGroupProject/road-sign-detection/images/val/road129.png: 448x640 1 trafficlight, 1 crosswalk, 127.7ms\n",
      "image 4/88 /Users/moke/Comp Vision/groupProject/compVisionGroupProject/road-sign-detection/images/val/road140.png: 448x640 1 crosswalk, 146.8ms\n",
      "image 5/88 /Users/moke/Comp Vision/groupProject/compVisionGroupProject/road-sign-detection/images/val/road142.png: 640x448 1 crosswalk, 134.9ms\n",
      "image 6/88 /Users/moke/Comp Vision/groupProject/compVisionGroupProject/road-sign-detection/images/val/road143.png: 640x448 1 crosswalk, 128.6ms\n",
      "image 7/88 /Users/moke/Comp Vision/groupProject/compVisionGroupProject/road-sign-detection/images/val/road157.png: 640x480 1 speedlimit, 136.6ms\n",
      "image 8/88 /Users/moke/Comp Vision/groupProject/compVisionGroupProject/road-sign-detection/images/val/road160.png: 640x480 1 stop, 1 crosswalk, 138.9ms\n",
      "image 9/88 /Users/moke/Comp Vision/groupProject/compVisionGroupProject/road-sign-detection/images/val/road164.png: 640x480 1 trafficlight, 160.7ms\n",
      "image 10/88 /Users/moke/Comp Vision/groupProject/compVisionGroupProject/road-sign-detection/images/val/road174.png: 640x480 1 speedlimit, 135.6ms\n",
      "image 11/88 /Users/moke/Comp Vision/groupProject/compVisionGroupProject/road-sign-detection/images/val/road175.png: 640x480 1 speedlimit, 135.9ms\n",
      "image 12/88 /Users/moke/Comp Vision/groupProject/compVisionGroupProject/road-sign-detection/images/val/road18.png: 640x512 (no detections), 150.0ms\n",
      "image 13/88 /Users/moke/Comp Vision/groupProject/compVisionGroupProject/road-sign-detection/images/val/road183.png: 640x480 1 crosswalk, 134.4ms\n",
      "image 14/88 /Users/moke/Comp Vision/groupProject/compVisionGroupProject/road-sign-detection/images/val/road194.png: 640x480 1 crosswalk, 135.2ms\n",
      "image 15/88 /Users/moke/Comp Vision/groupProject/compVisionGroupProject/road-sign-detection/images/val/road199.png: 640x480 1 speedlimit, 133.0ms\n",
      "image 16/88 /Users/moke/Comp Vision/groupProject/compVisionGroupProject/road-sign-detection/images/val/road206.png: 640x480 1 speedlimit, 137.8ms\n",
      "image 17/88 /Users/moke/Comp Vision/groupProject/compVisionGroupProject/road-sign-detection/images/val/road261.png: 640x480 1 speedlimit, 132.9ms\n",
      "image 18/88 /Users/moke/Comp Vision/groupProject/compVisionGroupProject/road-sign-detection/images/val/road267.png: 640x480 1 speedlimit, 153.3ms\n",
      "image 19/88 /Users/moke/Comp Vision/groupProject/compVisionGroupProject/road-sign-detection/images/val/road293.png: 640x480 1 speedlimit, 150.5ms\n",
      "image 20/88 /Users/moke/Comp Vision/groupProject/compVisionGroupProject/road-sign-detection/images/val/road3.png: 480x640 2 trafficlights, 133.4ms\n",
      "image 21/88 /Users/moke/Comp Vision/groupProject/compVisionGroupProject/road-sign-detection/images/val/road315.png: 640x480 1 speedlimit, 142.9ms\n",
      "image 22/88 /Users/moke/Comp Vision/groupProject/compVisionGroupProject/road-sign-detection/images/val/road316.png: 640x480 2 speedlimits, 1 crosswalk, 137.7ms\n",
      "image 23/88 /Users/moke/Comp Vision/groupProject/compVisionGroupProject/road-sign-detection/images/val/road318.png: 640x480 1 speedlimit, 1 crosswalk, 133.1ms\n",
      "image 24/88 /Users/moke/Comp Vision/groupProject/compVisionGroupProject/road-sign-detection/images/val/road321.png: 640x480 1 speedlimit, 1 crosswalk, 135.5ms\n",
      "image 25/88 /Users/moke/Comp Vision/groupProject/compVisionGroupProject/road-sign-detection/images/val/road328.png: 640x480 1 speedlimit, 145.1ms\n",
      "image 26/88 /Users/moke/Comp Vision/groupProject/compVisionGroupProject/road-sign-detection/images/val/road33.png: 640x448 (no detections), 129.0ms\n",
      "image 27/88 /Users/moke/Comp Vision/groupProject/compVisionGroupProject/road-sign-detection/images/val/road337.png: 640x480 1 speedlimit, 142.2ms\n",
      "image 28/88 /Users/moke/Comp Vision/groupProject/compVisionGroupProject/road-sign-detection/images/val/road356.png: 640x480 1 stop, 142.3ms\n",
      "image 29/88 /Users/moke/Comp Vision/groupProject/compVisionGroupProject/road-sign-detection/images/val/road360.png: 640x480 1 speedlimit, 136.9ms\n",
      "image 30/88 /Users/moke/Comp Vision/groupProject/compVisionGroupProject/road-sign-detection/images/val/road367.png: 640x480 1 speedlimit, 136.6ms\n",
      "image 31/88 /Users/moke/Comp Vision/groupProject/compVisionGroupProject/road-sign-detection/images/val/road37.png: 640x448 1 trafficlight, 133.9ms\n",
      "image 32/88 /Users/moke/Comp Vision/groupProject/compVisionGroupProject/road-sign-detection/images/val/road385.png: 640x480 1 speedlimit, 151.8ms\n",
      "image 33/88 /Users/moke/Comp Vision/groupProject/compVisionGroupProject/road-sign-detection/images/val/road403.png: 640x480 1 speedlimit, 157.8ms\n",
      "image 34/88 /Users/moke/Comp Vision/groupProject/compVisionGroupProject/road-sign-detection/images/val/road408.png: 640x480 1 speedlimit, 133.3ms\n",
      "image 35/88 /Users/moke/Comp Vision/groupProject/compVisionGroupProject/road-sign-detection/images/val/road417.png: 640x480 1 speedlimit, 137.1ms\n",
      "image 36/88 /Users/moke/Comp Vision/groupProject/compVisionGroupProject/road-sign-detection/images/val/road418.png: 640x480 1 speedlimit, 145.0ms\n",
      "image 37/88 /Users/moke/Comp Vision/groupProject/compVisionGroupProject/road-sign-detection/images/val/road43.png: 448x640 2 trafficlights, 142.7ms\n",
      "image 38/88 /Users/moke/Comp Vision/groupProject/compVisionGroupProject/road-sign-detection/images/val/road431.png: 640x480 1 speedlimit, 140.3ms\n",
      "image 39/88 /Users/moke/Comp Vision/groupProject/compVisionGroupProject/road-sign-detection/images/val/road433.png: 640x480 1 speedlimit, 140.0ms\n",
      "image 40/88 /Users/moke/Comp Vision/groupProject/compVisionGroupProject/road-sign-detection/images/val/road445.png: 640x480 1 speedlimit, 142.7ms\n",
      "image 41/88 /Users/moke/Comp Vision/groupProject/compVisionGroupProject/road-sign-detection/images/val/road47.png: 448x640 (no detections), 128.3ms\n",
      "image 42/88 /Users/moke/Comp Vision/groupProject/compVisionGroupProject/road-sign-detection/images/val/road486.png: 640x480 1 speedlimit, 139.3ms\n",
      "image 43/88 /Users/moke/Comp Vision/groupProject/compVisionGroupProject/road-sign-detection/images/val/road490.png: 640x480 1 speedlimit, 145.0ms\n",
      "image 44/88 /Users/moke/Comp Vision/groupProject/compVisionGroupProject/road-sign-detection/images/val/road492.png: 640x480 1 speedlimit, 134.8ms\n",
      "image 45/88 /Users/moke/Comp Vision/groupProject/compVisionGroupProject/road-sign-detection/images/val/road494.png: 640x480 1 crosswalk, 134.8ms\n",
      "image 46/88 /Users/moke/Comp Vision/groupProject/compVisionGroupProject/road-sign-detection/images/val/road498.png: 640x480 1 speedlimit, 307.3ms\n",
      "image 47/88 /Users/moke/Comp Vision/groupProject/compVisionGroupProject/road-sign-detection/images/val/road50.png: 640x448 1 trafficlight, 144.0ms\n",
      "image 48/88 /Users/moke/Comp Vision/groupProject/compVisionGroupProject/road-sign-detection/images/val/road543.png: 640x480 1 speedlimit, 142.9ms\n",
      "image 49/88 /Users/moke/Comp Vision/groupProject/compVisionGroupProject/road-sign-detection/images/val/road547.png: 640x480 1 speedlimit, 2 crosswalks, 143.2ms\n",
      "image 50/88 /Users/moke/Comp Vision/groupProject/compVisionGroupProject/road-sign-detection/images/val/road550.png: 640x480 1 speedlimit, 141.6ms\n",
      "image 51/88 /Users/moke/Comp Vision/groupProject/compVisionGroupProject/road-sign-detection/images/val/road558.png: 640x480 1 speedlimit, 138.9ms\n",
      "image 52/88 /Users/moke/Comp Vision/groupProject/compVisionGroupProject/road-sign-detection/images/val/road563.png: 640x480 1 speedlimit, 1 crosswalk, 139.9ms\n",
      "image 53/88 /Users/moke/Comp Vision/groupProject/compVisionGroupProject/road-sign-detection/images/val/road564.png: 640x480 1 speedlimit, 1 crosswalk, 140.3ms\n",
      "image 54/88 /Users/moke/Comp Vision/groupProject/compVisionGroupProject/road-sign-detection/images/val/road590.png: 640x480 1 speedlimit, 154.0ms\n",
      "image 55/88 /Users/moke/Comp Vision/groupProject/compVisionGroupProject/road-sign-detection/images/val/road599.png: 640x480 1 speedlimit, 140.0ms\n",
      "image 56/88 /Users/moke/Comp Vision/groupProject/compVisionGroupProject/road-sign-detection/images/val/road600.png: 640x480 1 speedlimit, 137.2ms\n",
      "image 57/88 /Users/moke/Comp Vision/groupProject/compVisionGroupProject/road-sign-detection/images/val/road609.png: 640x480 1 speedlimit, 1 crosswalk, 133.2ms\n",
      "image 58/88 /Users/moke/Comp Vision/groupProject/compVisionGroupProject/road-sign-detection/images/val/road617.png: 640x480 1 speedlimit, 137.0ms\n",
      "image 59/88 /Users/moke/Comp Vision/groupProject/compVisionGroupProject/road-sign-detection/images/val/road625.png: 640x480 1 speedlimit, 136.5ms\n",
      "image 60/88 /Users/moke/Comp Vision/groupProject/compVisionGroupProject/road-sign-detection/images/val/road640.png: 640x480 2 speedlimits, 160.7ms\n",
      "image 61/88 /Users/moke/Comp Vision/groupProject/compVisionGroupProject/road-sign-detection/images/val/road643.png: 640x480 1 speedlimit, 158.2ms\n",
      "image 62/88 /Users/moke/Comp Vision/groupProject/compVisionGroupProject/road-sign-detection/images/val/road661.png: 640x480 1 speedlimit, 149.1ms\n",
      "image 63/88 /Users/moke/Comp Vision/groupProject/compVisionGroupProject/road-sign-detection/images/val/road665.png: 640x480 2 speedlimits, 146.2ms\n",
      "image 64/88 /Users/moke/Comp Vision/groupProject/compVisionGroupProject/road-sign-detection/images/val/road667.png: 640x480 1 speedlimit, 137.6ms\n",
      "image 65/88 /Users/moke/Comp Vision/groupProject/compVisionGroupProject/road-sign-detection/images/val/road67.png: 448x640 1 stop, 130.0ms\n",
      "image 66/88 /Users/moke/Comp Vision/groupProject/compVisionGroupProject/road-sign-detection/images/val/road672.png: 640x480 1 speedlimit, 138.1ms\n",
      "image 67/88 /Users/moke/Comp Vision/groupProject/compVisionGroupProject/road-sign-detection/images/val/road679.png: 640x480 1 speedlimit, 142.8ms\n",
      "image 68/88 /Users/moke/Comp Vision/groupProject/compVisionGroupProject/road-sign-detection/images/val/road695.png: 640x480 2 speedlimits, 143.3ms\n",
      "image 69/88 /Users/moke/Comp Vision/groupProject/compVisionGroupProject/road-sign-detection/images/val/road709.png: 640x480 1 speedlimit, 142.6ms\n",
      "image 70/88 /Users/moke/Comp Vision/groupProject/compVisionGroupProject/road-sign-detection/images/val/road712.png: 640x480 2 speedlimits, 143.1ms\n",
      "image 71/88 /Users/moke/Comp Vision/groupProject/compVisionGroupProject/road-sign-detection/images/val/road721.png: 640x480 1 speedlimit, 140.2ms\n",
      "image 72/88 /Users/moke/Comp Vision/groupProject/compVisionGroupProject/road-sign-detection/images/val/road730.png: 640x480 2 speedlimits, 142.2ms\n",
      "image 73/88 /Users/moke/Comp Vision/groupProject/compVisionGroupProject/road-sign-detection/images/val/road731.png: 640x480 2 speedlimits, 179.6ms\n",
      "image 74/88 /Users/moke/Comp Vision/groupProject/compVisionGroupProject/road-sign-detection/images/val/road748.png: 640x480 2 speedlimits, 173.7ms\n",
      "image 75/88 /Users/moke/Comp Vision/groupProject/compVisionGroupProject/road-sign-detection/images/val/road764.png: 640x480 1 speedlimit, 142.2ms\n",
      "image 76/88 /Users/moke/Comp Vision/groupProject/compVisionGroupProject/road-sign-detection/images/val/road784.png: 640x480 1 speedlimit, 1 crosswalk, 149.8ms\n",
      "image 77/88 /Users/moke/Comp Vision/groupProject/compVisionGroupProject/road-sign-detection/images/val/road789.png: 640x480 1 speedlimit, 139.4ms\n",
      "image 78/88 /Users/moke/Comp Vision/groupProject/compVisionGroupProject/road-sign-detection/images/val/road796.png: 640x480 1 speedlimit, 139.1ms\n",
      "image 79/88 /Users/moke/Comp Vision/groupProject/compVisionGroupProject/road-sign-detection/images/val/road80.png: 640x640 3 stops, 180.8ms\n",
      "image 80/88 /Users/moke/Comp Vision/groupProject/compVisionGroupProject/road-sign-detection/images/val/road801.png: 640x480 1 speedlimit, 136.1ms\n",
      "image 81/88 /Users/moke/Comp Vision/groupProject/compVisionGroupProject/road-sign-detection/images/val/road803.png: 640x480 1 speedlimit, 145.4ms\n",
      "image 82/88 /Users/moke/Comp Vision/groupProject/compVisionGroupProject/road-sign-detection/images/val/road804.png: 640x480 1 speedlimit, 152.1ms\n",
      "image 83/88 /Users/moke/Comp Vision/groupProject/compVisionGroupProject/road-sign-detection/images/val/road809.png: 640x480 1 speedlimit, 150.3ms\n",
      "image 84/88 /Users/moke/Comp Vision/groupProject/compVisionGroupProject/road-sign-detection/images/val/road819.png: 640x480 1 trafficlight, 1 stop, 169.5ms\n",
      "image 85/88 /Users/moke/Comp Vision/groupProject/compVisionGroupProject/road-sign-detection/images/val/road841.png: 640x480 1 speedlimit, 1 crosswalk, 178.0ms\n",
      "image 86/88 /Users/moke/Comp Vision/groupProject/compVisionGroupProject/road-sign-detection/images/val/road854.png: 640x480 1 speedlimit, 155.5ms\n",
      "image 87/88 /Users/moke/Comp Vision/groupProject/compVisionGroupProject/road-sign-detection/images/val/road91.png: 640x640 1 stop, 280.6ms\n",
      "image 88/88 /Users/moke/Comp Vision/groupProject/compVisionGroupProject/road-sign-detection/images/val/road96.png: 448x640 1 stop, 151.8ms\n",
      "Speed: 3.5ms preprocess, 147.0ms inference, 0.8ms postprocess per image at shape (1, 3, 448, 640)\n"
     ]
    },
    {
     "name": "stderr",
     "output_type": "stream",
     "text": [
      "Unused or unrecognized kwargs: padding.\n",
      "Unused or unrecognized kwargs: padding.\n"
     ]
    },
    {
     "name": "stdout",
     "output_type": "stream",
     "text": [
      "tensor([[6.09211e-01, 3.09650e-04, 2.80116e-02, 3.62468e-01]], grad_fn=<SoftmaxBackward0>)\n"
     ]
    },
    {
     "name": "stderr",
     "output_type": "stream",
     "text": [
      "Unused or unrecognized kwargs: padding.\n"
     ]
    },
    {
     "name": "stdout",
     "output_type": "stream",
     "text": [
      "tensor([[6.09211e-01, 3.09650e-04, 2.80116e-02, 3.62468e-01]], grad_fn=<SoftmaxBackward0>)\n"
     ]
    },
    {
     "name": "stderr",
     "output_type": "stream",
     "text": [
      "Unused or unrecognized kwargs: padding.\n"
     ]
    },
    {
     "name": "stdout",
     "output_type": "stream",
     "text": [
      "tensor([[0.09556, 0.00517, 0.21824, 0.68102]], grad_fn=<SoftmaxBackward0>)\n"
     ]
    },
    {
     "name": "stderr",
     "output_type": "stream",
     "text": [
      "Unused or unrecognized kwargs: padding.\n"
     ]
    },
    {
     "name": "stdout",
     "output_type": "stream",
     "text": [
      "tensor([[0.17581, 0.00208, 0.04842, 0.77369]], grad_fn=<SoftmaxBackward0>)\n"
     ]
    },
    {
     "name": "stderr",
     "output_type": "stream",
     "text": [
      "Unused or unrecognized kwargs: padding.\n"
     ]
    },
    {
     "name": "stdout",
     "output_type": "stream",
     "text": [
      "tensor([[0.07176, 0.00248, 0.13115, 0.79460]], grad_fn=<SoftmaxBackward0>)\n"
     ]
    },
    {
     "name": "stderr",
     "output_type": "stream",
     "text": [
      "Unused or unrecognized kwargs: padding.\n"
     ]
    },
    {
     "name": "stdout",
     "output_type": "stream",
     "text": [
      "tensor([[4.05708e-02, 5.98559e-04, 6.56198e-01, 3.02632e-01]], grad_fn=<SoftmaxBackward0>)\n"
     ]
    },
    {
     "name": "stderr",
     "output_type": "stream",
     "text": [
      "Unused or unrecognized kwargs: padding.\n"
     ]
    },
    {
     "name": "stdout",
     "output_type": "stream",
     "text": [
      "tensor([[0.12826, 0.00561, 0.21757, 0.64855]], grad_fn=<SoftmaxBackward0>)\n"
     ]
    },
    {
     "name": "stderr",
     "output_type": "stream",
     "text": [
      "Unused or unrecognized kwargs: padding.\n"
     ]
    },
    {
     "name": "stdout",
     "output_type": "stream",
     "text": [
      "tensor([[0.12826, 0.00561, 0.21757, 0.64855]], grad_fn=<SoftmaxBackward0>)\n"
     ]
    },
    {
     "name": "stderr",
     "output_type": "stream",
     "text": [
      "Unused or unrecognized kwargs: padding.\n"
     ]
    },
    {
     "name": "stdout",
     "output_type": "stream",
     "text": [
      "tensor([[0.41641, 0.00318, 0.03644, 0.54396]], grad_fn=<SoftmaxBackward0>)\n"
     ]
    },
    {
     "name": "stderr",
     "output_type": "stream",
     "text": [
      "Unused or unrecognized kwargs: padding.\n"
     ]
    },
    {
     "name": "stdout",
     "output_type": "stream",
     "text": [
      "tensor([[1.65533e-02, 3.10654e-04, 9.16743e-01, 6.63928e-02]], grad_fn=<SoftmaxBackward0>)\n"
     ]
    },
    {
     "name": "stderr",
     "output_type": "stream",
     "text": [
      "Unused or unrecognized kwargs: padding.\n"
     ]
    },
    {
     "name": "stdout",
     "output_type": "stream",
     "text": [
      "tensor([[1.88140e-03, 1.23736e-04, 9.96623e-01, 1.37216e-03]], grad_fn=<SoftmaxBackward0>)\n"
     ]
    },
    {
     "name": "stderr",
     "output_type": "stream",
     "text": [
      "Unused or unrecognized kwargs: padding.\n"
     ]
    },
    {
     "name": "stdout",
     "output_type": "stream",
     "text": [
      "tensor([[0.10114, 0.00174, 0.15223, 0.74489]], grad_fn=<SoftmaxBackward0>)\n"
     ]
    },
    {
     "name": "stderr",
     "output_type": "stream",
     "text": [
      "Unused or unrecognized kwargs: padding.\n"
     ]
    },
    {
     "name": "stdout",
     "output_type": "stream",
     "text": [
      "tensor([[0.24123, 0.00095, 0.07200, 0.68582]], grad_fn=<SoftmaxBackward0>)\n"
     ]
    },
    {
     "name": "stderr",
     "output_type": "stream",
     "text": [
      "Unused or unrecognized kwargs: padding.\n"
     ]
    },
    {
     "name": "stdout",
     "output_type": "stream",
     "text": [
      "tensor([[0.15084, 0.03067, 0.40479, 0.41370]], grad_fn=<SoftmaxBackward0>)\n"
     ]
    },
    {
     "name": "stderr",
     "output_type": "stream",
     "text": [
      "Unused or unrecognized kwargs: padding.\n"
     ]
    },
    {
     "name": "stdout",
     "output_type": "stream",
     "text": [
      "tensor([[0.05882, 0.00621, 0.87506, 0.05991]], grad_fn=<SoftmaxBackward0>)\n"
     ]
    },
    {
     "name": "stderr",
     "output_type": "stream",
     "text": [
      "Unused or unrecognized kwargs: padding.\n"
     ]
    },
    {
     "name": "stdout",
     "output_type": "stream",
     "text": [
      "tensor([[0.41048, 0.02995, 0.32936, 0.23021]], grad_fn=<SoftmaxBackward0>)\n"
     ]
    },
    {
     "name": "stderr",
     "output_type": "stream",
     "text": [
      "Unused or unrecognized kwargs: padding.\n"
     ]
    },
    {
     "name": "stdout",
     "output_type": "stream",
     "text": [
      "tensor([[0.00926, 0.00178, 0.98256, 0.00641]], grad_fn=<SoftmaxBackward0>)\n"
     ]
    },
    {
     "name": "stderr",
     "output_type": "stream",
     "text": [
      "Unused or unrecognized kwargs: padding.\n"
     ]
    },
    {
     "name": "stdout",
     "output_type": "stream",
     "text": [
      "tensor([[0.00847, 0.00104, 0.98476, 0.00573]], grad_fn=<SoftmaxBackward0>)\n"
     ]
    },
    {
     "name": "stderr",
     "output_type": "stream",
     "text": [
      "Unused or unrecognized kwargs: padding.\n"
     ]
    },
    {
     "name": "stdout",
     "output_type": "stream",
     "text": [
      "tensor([[0.96419, 0.01048, 0.01767, 0.00766]], grad_fn=<SoftmaxBackward0>)\n"
     ]
    },
    {
     "name": "stderr",
     "output_type": "stream",
     "text": [
      "Unused or unrecognized kwargs: padding.\n"
     ]
    },
    {
     "name": "stdout",
     "output_type": "stream",
     "text": [
      "tensor([[0.96419, 0.01048, 0.01767, 0.00766]], grad_fn=<SoftmaxBackward0>)\n"
     ]
    },
    {
     "name": "stderr",
     "output_type": "stream",
     "text": [
      "Unused or unrecognized kwargs: padding.\n"
     ]
    },
    {
     "name": "stdout",
     "output_type": "stream",
     "text": [
      "tensor([[3.26506e-03, 8.77361e-04, 9.91223e-01, 4.63465e-03]], grad_fn=<SoftmaxBackward0>)\n"
     ]
    },
    {
     "name": "stderr",
     "output_type": "stream",
     "text": [
      "Unused or unrecognized kwargs: padding.\n"
     ]
    },
    {
     "name": "stdout",
     "output_type": "stream",
     "text": [
      "tensor([[7.20495e-04, 8.54129e-04, 9.98052e-01, 3.73225e-04]], grad_fn=<SoftmaxBackward0>)\n"
     ]
    },
    {
     "name": "stderr",
     "output_type": "stream",
     "text": [
      "Unused or unrecognized kwargs: padding.\n"
     ]
    },
    {
     "name": "stdout",
     "output_type": "stream",
     "text": [
      "tensor([[7.20495e-04, 8.54129e-04, 9.98052e-01, 3.73225e-04]], grad_fn=<SoftmaxBackward0>)\n"
     ]
    },
    {
     "name": "stderr",
     "output_type": "stream",
     "text": [
      "Unused or unrecognized kwargs: padding.\n"
     ]
    },
    {
     "name": "stdout",
     "output_type": "stream",
     "text": [
      "tensor([[7.20495e-04, 8.54129e-04, 9.98052e-01, 3.73225e-04]], grad_fn=<SoftmaxBackward0>)\n"
     ]
    },
    {
     "name": "stderr",
     "output_type": "stream",
     "text": [
      "Unused or unrecognized kwargs: padding.\n"
     ]
    },
    {
     "name": "stdout",
     "output_type": "stream",
     "text": [
      "tensor([[0.00175, 0.00134, 0.99386, 0.00306]], grad_fn=<SoftmaxBackward0>)\n"
     ]
    },
    {
     "name": "stderr",
     "output_type": "stream",
     "text": [
      "Unused or unrecognized kwargs: padding.\n"
     ]
    },
    {
     "name": "stdout",
     "output_type": "stream",
     "text": [
      "tensor([[0.00175, 0.00134, 0.99386, 0.00306]], grad_fn=<SoftmaxBackward0>)\n"
     ]
    },
    {
     "name": "stderr",
     "output_type": "stream",
     "text": [
      "Unused or unrecognized kwargs: padding.\n"
     ]
    },
    {
     "name": "stdout",
     "output_type": "stream",
     "text": [
      "tensor([[6.61679e-04, 9.55320e-04, 9.98057e-01, 3.25800e-04]], grad_fn=<SoftmaxBackward0>)\n"
     ]
    },
    {
     "name": "stderr",
     "output_type": "stream",
     "text": [
      "Unused or unrecognized kwargs: padding.\n"
     ]
    },
    {
     "name": "stdout",
     "output_type": "stream",
     "text": [
      "tensor([[6.61679e-04, 9.55320e-04, 9.98057e-01, 3.25800e-04]], grad_fn=<SoftmaxBackward0>)\n"
     ]
    },
    {
     "name": "stderr",
     "output_type": "stream",
     "text": [
      "Unused or unrecognized kwargs: padding.\n"
     ]
    },
    {
     "name": "stdout",
     "output_type": "stream",
     "text": [
      "tensor([[5.68745e-04, 6.85565e-04, 9.97808e-01, 9.37364e-04]], grad_fn=<SoftmaxBackward0>)\n"
     ]
    },
    {
     "name": "stderr",
     "output_type": "stream",
     "text": [
      "Unused or unrecognized kwargs: padding.\n"
     ]
    },
    {
     "name": "stdout",
     "output_type": "stream",
     "text": [
      "tensor([[1.39345e-03, 1.18621e-03, 9.97099e-01, 3.20893e-04]], grad_fn=<SoftmaxBackward0>)\n"
     ]
    },
    {
     "name": "stderr",
     "output_type": "stream",
     "text": [
      "Unused or unrecognized kwargs: padding.\n"
     ]
    },
    {
     "name": "stdout",
     "output_type": "stream",
     "text": [
      "tensor([[0.03160, 0.69425, 0.20364, 0.07051]], grad_fn=<SoftmaxBackward0>)\n"
     ]
    },
    {
     "name": "stderr",
     "output_type": "stream",
     "text": [
      "Unused or unrecognized kwargs: padding.\n"
     ]
    },
    {
     "name": "stdout",
     "output_type": "stream",
     "text": [
      "tensor([[0.00691, 0.00345, 0.98755, 0.00209]], grad_fn=<SoftmaxBackward0>)\n"
     ]
    },
    {
     "name": "stderr",
     "output_type": "stream",
     "text": [
      "Unused or unrecognized kwargs: padding.\n"
     ]
    },
    {
     "name": "stdout",
     "output_type": "stream",
     "text": [
      "tensor([[0.20537, 0.02197, 0.69174, 0.08092]], grad_fn=<SoftmaxBackward0>)\n"
     ]
    },
    {
     "name": "stderr",
     "output_type": "stream",
     "text": [
      "Unused or unrecognized kwargs: padding.\n"
     ]
    },
    {
     "name": "stdout",
     "output_type": "stream",
     "text": [
      "tensor([[9.70075e-01, 2.45043e-04, 5.17638e-03, 2.45034e-02]], grad_fn=<SoftmaxBackward0>)\n"
     ]
    },
    {
     "name": "stderr",
     "output_type": "stream",
     "text": [
      "Unused or unrecognized kwargs: padding.\n"
     ]
    },
    {
     "name": "stdout",
     "output_type": "stream",
     "text": [
      "tensor([[0.04033, 0.00206, 0.94971, 0.00790]], grad_fn=<SoftmaxBackward0>)\n"
     ]
    },
    {
     "name": "stderr",
     "output_type": "stream",
     "text": [
      "Unused or unrecognized kwargs: padding.\n"
     ]
    },
    {
     "name": "stdout",
     "output_type": "stream",
     "text": [
      "tensor([[0.00812, 0.00343, 0.98382, 0.00463]], grad_fn=<SoftmaxBackward0>)\n"
     ]
    },
    {
     "name": "stderr",
     "output_type": "stream",
     "text": [
      "Unused or unrecognized kwargs: padding.\n"
     ]
    },
    {
     "name": "stdout",
     "output_type": "stream",
     "text": [
      "tensor([[0.69003, 0.00581, 0.28776, 0.01639]], grad_fn=<SoftmaxBackward0>)\n"
     ]
    },
    {
     "name": "stderr",
     "output_type": "stream",
     "text": [
      "Unused or unrecognized kwargs: padding.\n"
     ]
    },
    {
     "name": "stdout",
     "output_type": "stream",
     "text": [
      "tensor([[7.59876e-03, 5.53051e-04, 9.90620e-01, 1.22857e-03]], grad_fn=<SoftmaxBackward0>)\n"
     ]
    },
    {
     "name": "stderr",
     "output_type": "stream",
     "text": [
      "Unused or unrecognized kwargs: padding.\n"
     ]
    },
    {
     "name": "stdout",
     "output_type": "stream",
     "text": [
      "tensor([[1.86015e-03, 2.55929e-04, 9.97574e-01, 3.10053e-04]], grad_fn=<SoftmaxBackward0>)\n"
     ]
    },
    {
     "name": "stderr",
     "output_type": "stream",
     "text": [
      "Unused or unrecognized kwargs: padding.\n"
     ]
    },
    {
     "name": "stdout",
     "output_type": "stream",
     "text": [
      "tensor([[0.79532, 0.00131, 0.01513, 0.18824]], grad_fn=<SoftmaxBackward0>)\n"
     ]
    },
    {
     "name": "stderr",
     "output_type": "stream",
     "text": [
      "Unused or unrecognized kwargs: padding.\n"
     ]
    },
    {
     "name": "stdout",
     "output_type": "stream",
     "text": [
      "tensor([[0.79532, 0.00131, 0.01513, 0.18824]], grad_fn=<SoftmaxBackward0>)\n"
     ]
    },
    {
     "name": "stderr",
     "output_type": "stream",
     "text": [
      "Unused or unrecognized kwargs: padding.\n"
     ]
    },
    {
     "name": "stdout",
     "output_type": "stream",
     "text": [
      "tensor([[3.42662e-02, 3.42038e-03, 9.61471e-01, 8.41930e-04]], grad_fn=<SoftmaxBackward0>)\n"
     ]
    },
    {
     "name": "stderr",
     "output_type": "stream",
     "text": [
      "Unused or unrecognized kwargs: padding.\n"
     ]
    },
    {
     "name": "stdout",
     "output_type": "stream",
     "text": [
      "tensor([[0.01957, 0.01206, 0.95719, 0.01119]], grad_fn=<SoftmaxBackward0>)\n"
     ]
    },
    {
     "name": "stderr",
     "output_type": "stream",
     "text": [
      "Unused or unrecognized kwargs: padding.\n"
     ]
    },
    {
     "name": "stdout",
     "output_type": "stream",
     "text": [
      "tensor([[3.35909e-03, 3.70419e-04, 9.95627e-01, 6.43698e-04]], grad_fn=<SoftmaxBackward0>)\n"
     ]
    },
    {
     "name": "stderr",
     "output_type": "stream",
     "text": [
      "Unused or unrecognized kwargs: padding.\n"
     ]
    },
    {
     "name": "stdout",
     "output_type": "stream",
     "text": [
      "tensor([[0.05034, 0.00640, 0.90888, 0.03438]], grad_fn=<SoftmaxBackward0>)\n"
     ]
    },
    {
     "name": "stderr",
     "output_type": "stream",
     "text": [
      "Unused or unrecognized kwargs: padding.\n"
     ]
    },
    {
     "name": "stdout",
     "output_type": "stream",
     "text": [
      "tensor([[5.94960e-03, 5.65208e-04, 9.90779e-01, 2.70616e-03]], grad_fn=<SoftmaxBackward0>)\n"
     ]
    },
    {
     "name": "stderr",
     "output_type": "stream",
     "text": [
      "Unused or unrecognized kwargs: padding.\n"
     ]
    },
    {
     "name": "stdout",
     "output_type": "stream",
     "text": [
      "tensor([[9.34754e-04, 3.87637e-04, 9.98070e-01, 6.08009e-04]], grad_fn=<SoftmaxBackward0>)\n"
     ]
    },
    {
     "name": "stderr",
     "output_type": "stream",
     "text": [
      "Unused or unrecognized kwargs: padding.\n"
     ]
    },
    {
     "name": "stdout",
     "output_type": "stream",
     "text": [
      "tensor([[9.21019e-04, 1.11339e-03, 9.97584e-01, 3.81168e-04]], grad_fn=<SoftmaxBackward0>)\n"
     ]
    },
    {
     "name": "stderr",
     "output_type": "stream",
     "text": [
      "Unused or unrecognized kwargs: padding.\n"
     ]
    },
    {
     "name": "stdout",
     "output_type": "stream",
     "text": [
      "tensor([[0.02737, 0.00140, 0.95878, 0.01245]], grad_fn=<SoftmaxBackward0>)\n"
     ]
    },
    {
     "name": "stderr",
     "output_type": "stream",
     "text": [
      "Unused or unrecognized kwargs: padding.\n"
     ]
    },
    {
     "name": "stdout",
     "output_type": "stream",
     "text": [
      "tensor([[0.75401, 0.00333, 0.06134, 0.18132]], grad_fn=<SoftmaxBackward0>)\n"
     ]
    },
    {
     "name": "stderr",
     "output_type": "stream",
     "text": [
      "Unused or unrecognized kwargs: padding.\n"
     ]
    },
    {
     "name": "stdout",
     "output_type": "stream",
     "text": [
      "tensor([[7.94601e-03, 8.87228e-04, 9.88719e-01, 2.44766e-03]], grad_fn=<SoftmaxBackward0>)\n"
     ]
    },
    {
     "name": "stderr",
     "output_type": "stream",
     "text": [
      "Unused or unrecognized kwargs: padding.\n"
     ]
    },
    {
     "name": "stdout",
     "output_type": "stream",
     "text": [
      "tensor([[0.00457, 0.00130, 0.99142, 0.00271]], grad_fn=<SoftmaxBackward0>)\n"
     ]
    },
    {
     "name": "stderr",
     "output_type": "stream",
     "text": [
      "Unused or unrecognized kwargs: padding.\n"
     ]
    },
    {
     "name": "stdout",
     "output_type": "stream",
     "text": [
      "tensor([[0.00457, 0.00130, 0.99142, 0.00271]], grad_fn=<SoftmaxBackward0>)\n"
     ]
    },
    {
     "name": "stderr",
     "output_type": "stream",
     "text": [
      "Unused or unrecognized kwargs: padding.\n"
     ]
    },
    {
     "name": "stdout",
     "output_type": "stream",
     "text": [
      "tensor([[0.00457, 0.00130, 0.99142, 0.00271]], grad_fn=<SoftmaxBackward0>)\n"
     ]
    },
    {
     "name": "stderr",
     "output_type": "stream",
     "text": [
      "Unused or unrecognized kwargs: padding.\n"
     ]
    },
    {
     "name": "stdout",
     "output_type": "stream",
     "text": [
      "tensor([[2.80254e-04, 5.02478e-04, 9.99116e-01, 1.01604e-04]], grad_fn=<SoftmaxBackward0>)\n"
     ]
    },
    {
     "name": "stderr",
     "output_type": "stream",
     "text": [
      "Unused or unrecognized kwargs: padding.\n"
     ]
    },
    {
     "name": "stdout",
     "output_type": "stream",
     "text": [
      "tensor([[0.02335, 0.00385, 0.96110, 0.01171]], grad_fn=<SoftmaxBackward0>)\n"
     ]
    },
    {
     "name": "stderr",
     "output_type": "stream",
     "text": [
      "Unused or unrecognized kwargs: padding.\n"
     ]
    },
    {
     "name": "stdout",
     "output_type": "stream",
     "text": [
      "tensor([[2.81459e-03, 5.15952e-04, 9.95902e-01, 7.66922e-04]], grad_fn=<SoftmaxBackward0>)\n"
     ]
    },
    {
     "name": "stderr",
     "output_type": "stream",
     "text": [
      "Unused or unrecognized kwargs: padding.\n"
     ]
    },
    {
     "name": "stdout",
     "output_type": "stream",
     "text": [
      "tensor([[2.81459e-03, 5.15952e-04, 9.95902e-01, 7.66922e-04]], grad_fn=<SoftmaxBackward0>)\n"
     ]
    },
    {
     "name": "stderr",
     "output_type": "stream",
     "text": [
      "Unused or unrecognized kwargs: padding.\n"
     ]
    },
    {
     "name": "stdout",
     "output_type": "stream",
     "text": [
      "tensor([[5.27895e-03, 6.19281e-04, 9.93107e-01, 9.94438e-04]], grad_fn=<SoftmaxBackward0>)\n"
     ]
    },
    {
     "name": "stderr",
     "output_type": "stream",
     "text": [
      "Unused or unrecognized kwargs: padding.\n"
     ]
    },
    {
     "name": "stdout",
     "output_type": "stream",
     "text": [
      "tensor([[5.27895e-03, 6.19281e-04, 9.93107e-01, 9.94438e-04]], grad_fn=<SoftmaxBackward0>)\n"
     ]
    },
    {
     "name": "stderr",
     "output_type": "stream",
     "text": [
      "Unused or unrecognized kwargs: padding.\n"
     ]
    },
    {
     "name": "stdout",
     "output_type": "stream",
     "text": [
      "tensor([[4.31729e-03, 6.86224e-04, 9.93386e-01, 1.61088e-03]], grad_fn=<SoftmaxBackward0>)\n"
     ]
    },
    {
     "name": "stderr",
     "output_type": "stream",
     "text": [
      "Unused or unrecognized kwargs: padding.\n"
     ]
    },
    {
     "name": "stdout",
     "output_type": "stream",
     "text": [
      "tensor([[3.62830e-04, 7.53490e-04, 9.98280e-01, 6.03800e-04]], grad_fn=<SoftmaxBackward0>)\n"
     ]
    },
    {
     "name": "stderr",
     "output_type": "stream",
     "text": [
      "Unused or unrecognized kwargs: padding.\n"
     ]
    },
    {
     "name": "stdout",
     "output_type": "stream",
     "text": [
      "tensor([[0.07782, 0.00212, 0.80775, 0.11231]], grad_fn=<SoftmaxBackward0>)\n"
     ]
    },
    {
     "name": "stderr",
     "output_type": "stream",
     "text": [
      "Unused or unrecognized kwargs: padding.\n"
     ]
    },
    {
     "name": "stdout",
     "output_type": "stream",
     "text": [
      "tensor([[1.30087e-03, 4.96490e-04, 9.96885e-01, 1.31781e-03]], grad_fn=<SoftmaxBackward0>)\n"
     ]
    },
    {
     "name": "stderr",
     "output_type": "stream",
     "text": [
      "Unused or unrecognized kwargs: padding.\n"
     ]
    },
    {
     "name": "stdout",
     "output_type": "stream",
     "text": [
      "tensor([[1.30087e-03, 4.96490e-04, 9.96885e-01, 1.31781e-03]], grad_fn=<SoftmaxBackward0>)\n"
     ]
    },
    {
     "name": "stderr",
     "output_type": "stream",
     "text": [
      "Unused or unrecognized kwargs: padding.\n"
     ]
    },
    {
     "name": "stdout",
     "output_type": "stream",
     "text": [
      "tensor([[2.72712e-04, 4.25720e-04, 9.98984e-01, 3.17617e-04]], grad_fn=<SoftmaxBackward0>)\n"
     ]
    },
    {
     "name": "stderr",
     "output_type": "stream",
     "text": [
      "Unused or unrecognized kwargs: padding.\n"
     ]
    },
    {
     "name": "stdout",
     "output_type": "stream",
     "text": [
      "tensor([[6.04345e-04, 1.62017e-04, 9.99192e-01, 4.17339e-05]], grad_fn=<SoftmaxBackward0>)\n"
     ]
    },
    {
     "name": "stderr",
     "output_type": "stream",
     "text": [
      "Unused or unrecognized kwargs: padding.\n"
     ]
    },
    {
     "name": "stdout",
     "output_type": "stream",
     "text": [
      "tensor([[6.88944e-04, 2.28678e-04, 9.98882e-01, 2.00540e-04]], grad_fn=<SoftmaxBackward0>)\n"
     ]
    },
    {
     "name": "stderr",
     "output_type": "stream",
     "text": [
      "Unused or unrecognized kwargs: padding.\n"
     ]
    },
    {
     "name": "stdout",
     "output_type": "stream",
     "text": [
      "tensor([[6.88944e-04, 2.28678e-04, 9.98882e-01, 2.00540e-04]], grad_fn=<SoftmaxBackward0>)\n"
     ]
    },
    {
     "name": "stderr",
     "output_type": "stream",
     "text": [
      "Unused or unrecognized kwargs: padding.\n"
     ]
    },
    {
     "name": "stdout",
     "output_type": "stream",
     "text": [
      "tensor([[2.18274e-04, 1.29466e-04, 9.99419e-01, 2.32951e-04]], grad_fn=<SoftmaxBackward0>)\n"
     ]
    },
    {
     "name": "stderr",
     "output_type": "stream",
     "text": [
      "Unused or unrecognized kwargs: padding.\n"
     ]
    },
    {
     "name": "stdout",
     "output_type": "stream",
     "text": [
      "tensor([[3.10974e-04, 4.38324e-04, 9.99228e-01, 2.29024e-05]], grad_fn=<SoftmaxBackward0>)\n"
     ]
    },
    {
     "name": "stderr",
     "output_type": "stream",
     "text": [
      "Unused or unrecognized kwargs: padding.\n"
     ]
    },
    {
     "name": "stdout",
     "output_type": "stream",
     "text": [
      "tensor([[1.74848e-03, 6.23724e-04, 9.97208e-01, 4.20115e-04]], grad_fn=<SoftmaxBackward0>)\n"
     ]
    },
    {
     "name": "stderr",
     "output_type": "stream",
     "text": [
      "Unused or unrecognized kwargs: padding.\n"
     ]
    },
    {
     "name": "stdout",
     "output_type": "stream",
     "text": [
      "tensor([[1.74848e-03, 6.23724e-04, 9.97208e-01, 4.20115e-04]], grad_fn=<SoftmaxBackward0>)\n"
     ]
    },
    {
     "name": "stderr",
     "output_type": "stream",
     "text": [
      "Unused or unrecognized kwargs: padding.\n"
     ]
    },
    {
     "name": "stdout",
     "output_type": "stream",
     "text": [
      "tensor([[1.46948e-03, 1.51584e-04, 9.98023e-01, 3.56235e-04]], grad_fn=<SoftmaxBackward0>)\n"
     ]
    },
    {
     "name": "stderr",
     "output_type": "stream",
     "text": [
      "Unused or unrecognized kwargs: padding.\n"
     ]
    },
    {
     "name": "stdout",
     "output_type": "stream",
     "text": [
      "tensor([[0.01186, 0.90308, 0.06623, 0.01883]], grad_fn=<SoftmaxBackward0>)\n"
     ]
    },
    {
     "name": "stderr",
     "output_type": "stream",
     "text": [
      "Unused or unrecognized kwargs: padding.\n"
     ]
    },
    {
     "name": "stdout",
     "output_type": "stream",
     "text": [
      "tensor([[0.03855, 0.00711, 0.69511, 0.25923]], grad_fn=<SoftmaxBackward0>)\n"
     ]
    },
    {
     "name": "stderr",
     "output_type": "stream",
     "text": [
      "Unused or unrecognized kwargs: padding.\n"
     ]
    },
    {
     "name": "stdout",
     "output_type": "stream",
     "text": [
      "tensor([[7.88996e-03, 6.80420e-04, 9.58765e-01, 3.26647e-02]], grad_fn=<SoftmaxBackward0>)\n"
     ]
    },
    {
     "name": "stderr",
     "output_type": "stream",
     "text": [
      "Unused or unrecognized kwargs: padding.\n"
     ]
    },
    {
     "name": "stdout",
     "output_type": "stream",
     "text": [
      "tensor([[0.01044, 0.01044, 0.97425, 0.00487]], grad_fn=<SoftmaxBackward0>)\n"
     ]
    },
    {
     "name": "stderr",
     "output_type": "stream",
     "text": [
      "Unused or unrecognized kwargs: padding.\n"
     ]
    },
    {
     "name": "stdout",
     "output_type": "stream",
     "text": [
      "tensor([[0.01044, 0.01044, 0.97425, 0.00487]], grad_fn=<SoftmaxBackward0>)\n"
     ]
    },
    {
     "name": "stderr",
     "output_type": "stream",
     "text": [
      "Unused or unrecognized kwargs: padding.\n"
     ]
    },
    {
     "name": "stdout",
     "output_type": "stream",
     "text": [
      "tensor([[0.04650, 0.00415, 0.93079, 0.01855]], grad_fn=<SoftmaxBackward0>)\n"
     ]
    },
    {
     "name": "stderr",
     "output_type": "stream",
     "text": [
      "Unused or unrecognized kwargs: padding.\n"
     ]
    },
    {
     "name": "stdout",
     "output_type": "stream",
     "text": [
      "tensor([[2.51606e-03, 1.92923e-04, 9.96719e-01, 5.71817e-04]], grad_fn=<SoftmaxBackward0>)\n"
     ]
    },
    {
     "name": "stderr",
     "output_type": "stream",
     "text": [
      "Unused or unrecognized kwargs: padding.\n"
     ]
    },
    {
     "name": "stdout",
     "output_type": "stream",
     "text": [
      "tensor([[2.51606e-03, 1.92923e-04, 9.96719e-01, 5.71817e-04]], grad_fn=<SoftmaxBackward0>)\n"
     ]
    },
    {
     "name": "stderr",
     "output_type": "stream",
     "text": [
      "Unused or unrecognized kwargs: padding.\n"
     ]
    },
    {
     "name": "stdout",
     "output_type": "stream",
     "text": [
      "tensor([[2.45118e-04, 5.23282e-04, 9.99129e-01, 1.03028e-04]], grad_fn=<SoftmaxBackward0>)\n"
     ]
    },
    {
     "name": "stderr",
     "output_type": "stream",
     "text": [
      "Unused or unrecognized kwargs: padding.\n"
     ]
    },
    {
     "name": "stdout",
     "output_type": "stream",
     "text": [
      "tensor([[4.66205e-04, 1.38152e-03, 9.97754e-01, 3.97861e-04]], grad_fn=<SoftmaxBackward0>)\n"
     ]
    },
    {
     "name": "stderr",
     "output_type": "stream",
     "text": [
      "Unused or unrecognized kwargs: padding.\n"
     ]
    },
    {
     "name": "stdout",
     "output_type": "stream",
     "text": [
      "tensor([[4.66205e-04, 1.38152e-03, 9.97754e-01, 3.97861e-04]], grad_fn=<SoftmaxBackward0>)\n"
     ]
    },
    {
     "name": "stderr",
     "output_type": "stream",
     "text": [
      "Unused or unrecognized kwargs: padding.\n"
     ]
    },
    {
     "name": "stdout",
     "output_type": "stream",
     "text": [
      "tensor([[2.16319e-04, 4.55662e-04, 9.99292e-01, 3.63463e-05]], grad_fn=<SoftmaxBackward0>)\n"
     ]
    },
    {
     "name": "stderr",
     "output_type": "stream",
     "text": [
      "Unused or unrecognized kwargs: padding.\n"
     ]
    },
    {
     "name": "stdout",
     "output_type": "stream",
     "text": [
      "tensor([[2.16319e-04, 4.55662e-04, 9.99292e-01, 3.63463e-05]], grad_fn=<SoftmaxBackward0>)\n"
     ]
    },
    {
     "name": "stderr",
     "output_type": "stream",
     "text": [
      "Unused or unrecognized kwargs: padding.\n"
     ]
    },
    {
     "name": "stdout",
     "output_type": "stream",
     "text": [
      "tensor([[0.01301, 0.01856, 0.96561, 0.00283]], grad_fn=<SoftmaxBackward0>)\n"
     ]
    },
    {
     "name": "stderr",
     "output_type": "stream",
     "text": [
      "Unused or unrecognized kwargs: padding.\n"
     ]
    },
    {
     "name": "stdout",
     "output_type": "stream",
     "text": [
      "tensor([[0.01301, 0.01856, 0.96561, 0.00283]], grad_fn=<SoftmaxBackward0>)\n"
     ]
    },
    {
     "name": "stderr",
     "output_type": "stream",
     "text": [
      "Unused or unrecognized kwargs: padding.\n"
     ]
    },
    {
     "name": "stdout",
     "output_type": "stream",
     "text": [
      "tensor([[9.49277e-03, 6.70407e-04, 9.77027e-01, 1.28101e-02]], grad_fn=<SoftmaxBackward0>)\n"
     ]
    },
    {
     "name": "stderr",
     "output_type": "stream",
     "text": [
      "Unused or unrecognized kwargs: padding.\n"
     ]
    },
    {
     "name": "stdout",
     "output_type": "stream",
     "text": [
      "tensor([[2.51512e-03, 9.54253e-04, 9.95805e-01, 7.25204e-04]], grad_fn=<SoftmaxBackward0>)\n"
     ]
    },
    {
     "name": "stderr",
     "output_type": "stream",
     "text": [
      "Unused or unrecognized kwargs: padding.\n"
     ]
    },
    {
     "name": "stdout",
     "output_type": "stream",
     "text": [
      "tensor([[2.51512e-03, 9.54253e-04, 9.95805e-01, 7.25204e-04]], grad_fn=<SoftmaxBackward0>)\n"
     ]
    },
    {
     "name": "stderr",
     "output_type": "stream",
     "text": [
      "Unused or unrecognized kwargs: padding.\n"
     ]
    },
    {
     "name": "stdout",
     "output_type": "stream",
     "text": [
      "tensor([[2.93284e-03, 9.04194e-04, 9.95952e-01, 2.11084e-04]], grad_fn=<SoftmaxBackward0>)\n"
     ]
    },
    {
     "name": "stderr",
     "output_type": "stream",
     "text": [
      "Unused or unrecognized kwargs: padding.\n"
     ]
    },
    {
     "name": "stdout",
     "output_type": "stream",
     "text": [
      "tensor([[0.38933, 0.01550, 0.58484, 0.01033]], grad_fn=<SoftmaxBackward0>)\n"
     ]
    },
    {
     "name": "stderr",
     "output_type": "stream",
     "text": [
      "Unused or unrecognized kwargs: padding.\n"
     ]
    },
    {
     "name": "stdout",
     "output_type": "stream",
     "text": [
      "tensor([[0.00134, 0.99103, 0.00444, 0.00319]], grad_fn=<SoftmaxBackward0>)\n"
     ]
    },
    {
     "name": "stderr",
     "output_type": "stream",
     "text": [
      "Unused or unrecognized kwargs: padding.\n"
     ]
    },
    {
     "name": "stdout",
     "output_type": "stream",
     "text": [
      "tensor([[0.00134, 0.99103, 0.00444, 0.00319]], grad_fn=<SoftmaxBackward0>)\n"
     ]
    },
    {
     "name": "stderr",
     "output_type": "stream",
     "text": [
      "Unused or unrecognized kwargs: padding.\n"
     ]
    },
    {
     "name": "stdout",
     "output_type": "stream",
     "text": [
      "tensor([[0.00134, 0.99103, 0.00444, 0.00319]], grad_fn=<SoftmaxBackward0>)\n"
     ]
    },
    {
     "name": "stderr",
     "output_type": "stream",
     "text": [
      "Unused or unrecognized kwargs: padding.\n"
     ]
    },
    {
     "name": "stdout",
     "output_type": "stream",
     "text": [
      "tensor([[4.65134e-03, 6.88416e-03, 9.87570e-01, 8.94997e-04]], grad_fn=<SoftmaxBackward0>)\n"
     ]
    },
    {
     "name": "stderr",
     "output_type": "stream",
     "text": [
      "Unused or unrecognized kwargs: padding.\n"
     ]
    },
    {
     "name": "stdout",
     "output_type": "stream",
     "text": [
      "tensor([[0.00244, 0.00643, 0.98952, 0.00161]], grad_fn=<SoftmaxBackward0>)\n"
     ]
    },
    {
     "name": "stderr",
     "output_type": "stream",
     "text": [
      "Unused or unrecognized kwargs: padding.\n"
     ]
    },
    {
     "name": "stdout",
     "output_type": "stream",
     "text": [
      "tensor([[2.04136e-03, 4.55682e-03, 9.92539e-01, 8.62947e-04]], grad_fn=<SoftmaxBackward0>)\n"
     ]
    },
    {
     "name": "stderr",
     "output_type": "stream",
     "text": [
      "Unused or unrecognized kwargs: padding.\n"
     ]
    },
    {
     "name": "stdout",
     "output_type": "stream",
     "text": [
      "tensor([[0.00434, 0.00285, 0.98953, 0.00328]], grad_fn=<SoftmaxBackward0>)\n"
     ]
    },
    {
     "name": "stderr",
     "output_type": "stream",
     "text": [
      "Unused or unrecognized kwargs: padding.\n"
     ]
    },
    {
     "name": "stdout",
     "output_type": "stream",
     "text": [
      "tensor([[0.01911, 0.09183, 0.74568, 0.14338]], grad_fn=<SoftmaxBackward0>)\n"
     ]
    },
    {
     "name": "stderr",
     "output_type": "stream",
     "text": [
      "Unused or unrecognized kwargs: padding.\n"
     ]
    },
    {
     "name": "stdout",
     "output_type": "stream",
     "text": [
      "tensor([[0.01911, 0.09183, 0.74568, 0.14338]], grad_fn=<SoftmaxBackward0>)\n"
     ]
    },
    {
     "name": "stderr",
     "output_type": "stream",
     "text": [
      "Unused or unrecognized kwargs: padding.\n"
     ]
    },
    {
     "name": "stdout",
     "output_type": "stream",
     "text": [
      "tensor([[0.00423, 0.00162, 0.98568, 0.00846]], grad_fn=<SoftmaxBackward0>)\n"
     ]
    },
    {
     "name": "stderr",
     "output_type": "stream",
     "text": [
      "Unused or unrecognized kwargs: padding.\n"
     ]
    },
    {
     "name": "stdout",
     "output_type": "stream",
     "text": [
      "tensor([[0.00423, 0.00162, 0.98568, 0.00846]], grad_fn=<SoftmaxBackward0>)\n"
     ]
    },
    {
     "name": "stderr",
     "output_type": "stream",
     "text": [
      "Unused or unrecognized kwargs: padding.\n"
     ]
    },
    {
     "name": "stdout",
     "output_type": "stream",
     "text": [
      "tensor([[1.06987e-03, 1.31821e-03, 9.96869e-01, 7.42444e-04]], grad_fn=<SoftmaxBackward0>)\n"
     ]
    },
    {
     "name": "stderr",
     "output_type": "stream",
     "text": [
      "Unused or unrecognized kwargs: padding.\n"
     ]
    },
    {
     "name": "stdout",
     "output_type": "stream",
     "text": [
      "tensor([[0.11477, 0.11117, 0.60060, 0.17346]], grad_fn=<SoftmaxBackward0>)\n",
      "tensor([[0.02887, 0.55985, 0.37023, 0.04104]], grad_fn=<SoftmaxBackward0>)\n"
     ]
    }
   ],
   "source": [
    "yolo_clip(\"road-sign-detection/images/val/\")"
   ]
  },
  {
   "cell_type": "code",
   "execution_count": null,
   "metadata": {},
   "outputs": [],
   "source": []
  }
 ],
 "metadata": {
  "kernelspec": {
   "display_name": "Python 3",
   "language": "python",
   "name": "python3"
  },
  "language_info": {
   "codemirror_mode": {
    "name": "ipython",
    "version": 3
   },
   "file_extension": ".py",
   "mimetype": "text/x-python",
   "name": "python",
   "nbconvert_exporter": "python",
   "pygments_lexer": "ipython3",
   "version": "3.10.3"
  }
 },
 "nbformat": 4,
 "nbformat_minor": 2
}
