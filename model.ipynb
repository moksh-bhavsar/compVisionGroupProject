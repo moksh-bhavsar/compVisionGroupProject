{
 "cells": [
  {
   "cell_type": "code",
   "execution_count": 1,
   "metadata": {},
   "outputs": [
    {
     "name": "stdout",
     "output_type": "stream",
     "text": [
      "Note: you may need to restart the kernel to use updated packages.\n"
     ]
    },
    {
     "name": "stderr",
     "output_type": "stream",
     "text": [
      "WARNING: Ignoring invalid distribution -p (c:\\python310\\lib\\site-packages)\n",
      "WARNING: Ignoring invalid distribution -p (c:\\python310\\lib\\site-packages)\n",
      "WARNING: Ignoring invalid distribution -ip (c:\\python310\\lib\\site-packages)\n",
      "WARNING: Ignoring invalid distribution - (c:\\python310\\lib\\site-packages)\n",
      "WARNING: Ignoring invalid distribution -p (c:\\python310\\lib\\site-packages)\n",
      "WARNING: Ignoring invalid distribution -p (c:\\python310\\lib\\site-packages)\n",
      "WARNING: Ignoring invalid distribution -ip (c:\\python310\\lib\\site-packages)\n",
      "WARNING: Ignoring invalid distribution - (c:\\python310\\lib\\site-packages)\n",
      "WARNING: Ignoring invalid distribution -p (c:\\python310\\lib\\site-packages)\n",
      "WARNING: Ignoring invalid distribution -p (c:\\python310\\lib\\site-packages)\n",
      "WARNING: Ignoring invalid distribution -ip (c:\\python310\\lib\\site-packages)\n",
      "WARNING: Ignoring invalid distribution - (c:\\python310\\lib\\site-packages)\n",
      "  WARNING: Failed to write executable - trying to use .deleteme logic\n",
      "ERROR: Could not install packages due to an OSError: [WinError 2] The system cannot find the file specified: 'c:\\\\Python310\\\\Scripts\\\\cpuinfo.exe' -> 'c:\\\\Python310\\\\Scripts\\\\cpuinfo.exe.deleteme'\n",
      "\n",
      "WARNING: Ignoring invalid distribution -p (c:\\python310\\lib\\site-packages)\n",
      "WARNING: Ignoring invalid distribution -p (c:\\python310\\lib\\site-packages)\n",
      "WARNING: Ignoring invalid distribution -ip (c:\\python310\\lib\\site-packages)\n",
      "WARNING: Ignoring invalid distribution - (c:\\python310\\lib\\site-packages)\n",
      "WARNING: Ignoring invalid distribution -p (c:\\python310\\lib\\site-packages)\n",
      "WARNING: Ignoring invalid distribution -p (c:\\python310\\lib\\site-packages)\n",
      "WARNING: Ignoring invalid distribution -ip (c:\\python310\\lib\\site-packages)\n",
      "WARNING: Ignoring invalid distribution - (c:\\python310\\lib\\site-packages)\n",
      "WARNING: Ignoring invalid distribution -p (c:\\python310\\lib\\site-packages)\n",
      "WARNING: Ignoring invalid distribution -p (c:\\python310\\lib\\site-packages)\n",
      "WARNING: Ignoring invalid distribution -ip (c:\\python310\\lib\\site-packages)\n",
      "WARNING: Ignoring invalid distribution - (c:\\python310\\lib\\site-packages)\n",
      "WARNING: You are using pip version 22.0.4; however, version 24.0 is available.\n",
      "You should consider upgrading via the 'c:\\Python310\\python.exe -m pip install --upgrade pip' command.\n"
     ]
    },
    {
     "name": "stdout",
     "output_type": "stream",
     "text": [
      "Note: you may need to restart the kernel to use updated packages.\n"
     ]
    },
    {
     "name": "stderr",
     "output_type": "stream",
     "text": [
      "WARNING: Ignoring invalid distribution -p (c:\\python310\\lib\\site-packages)\n",
      "WARNING: Ignoring invalid distribution -p (c:\\python310\\lib\\site-packages)\n",
      "WARNING: Ignoring invalid distribution -ip (c:\\python310\\lib\\site-packages)\n",
      "WARNING: Ignoring invalid distribution - (c:\\python310\\lib\\site-packages)\n",
      "WARNING: Ignoring invalid distribution -p (c:\\python310\\lib\\site-packages)\n",
      "WARNING: Ignoring invalid distribution -p (c:\\python310\\lib\\site-packages)\n",
      "WARNING: Ignoring invalid distribution -ip (c:\\python310\\lib\\site-packages)\n",
      "WARNING: Ignoring invalid distribution - (c:\\python310\\lib\\site-packages)\n",
      "WARNING: Ignoring invalid distribution -p (c:\\python310\\lib\\site-packages)\n",
      "WARNING: Ignoring invalid distribution -p (c:\\python310\\lib\\site-packages)\n",
      "WARNING: Ignoring invalid distribution -ip (c:\\python310\\lib\\site-packages)\n",
      "WARNING: Ignoring invalid distribution - (c:\\python310\\lib\\site-packages)\n",
      "  WARNING: Failed to write executable - trying to use .deleteme logic\n",
      "ERROR: Could not install packages due to an OSError: [WinError 2] The system cannot find the file specified: 'c:\\\\Python310\\\\Scripts\\\\tqdm.exe' -> 'c:\\\\Python310\\\\Scripts\\\\tqdm.exe.deleteme'\n",
      "\n",
      "WARNING: Ignoring invalid distribution -p (c:\\python310\\lib\\site-packages)\n",
      "WARNING: Ignoring invalid distribution -p (c:\\python310\\lib\\site-packages)\n",
      "WARNING: Ignoring invalid distribution -ip (c:\\python310\\lib\\site-packages)\n",
      "WARNING: Ignoring invalid distribution - (c:\\python310\\lib\\site-packages)\n",
      "WARNING: Ignoring invalid distribution -p (c:\\python310\\lib\\site-packages)\n",
      "WARNING: Ignoring invalid distribution -p (c:\\python310\\lib\\site-packages)\n",
      "WARNING: Ignoring invalid distribution -ip (c:\\python310\\lib\\site-packages)\n",
      "WARNING: Ignoring invalid distribution - (c:\\python310\\lib\\site-packages)\n",
      "WARNING: Ignoring invalid distribution -p (c:\\python310\\lib\\site-packages)\n",
      "WARNING: Ignoring invalid distribution -p (c:\\python310\\lib\\site-packages)\n",
      "WARNING: Ignoring invalid distribution -ip (c:\\python310\\lib\\site-packages)\n",
      "WARNING: Ignoring invalid distribution - (c:\\python310\\lib\\site-packages)\n",
      "WARNING: You are using pip version 22.0.4; however, version 24.0 is available.\n",
      "You should consider upgrading via the 'c:\\Python310\\python.exe -m pip install --upgrade pip' command.\n"
     ]
    }
   ],
   "source": [
    "%pip install --quiet ultralytics\n",
    "%pip install --quiet transformers"
   ]
  },
  {
   "cell_type": "code",
   "execution_count": null,
   "metadata": {},
   "outputs": [
    {
     "name": "stderr",
     "output_type": "stream",
     "text": [
      "The cache for model files in Transformers v4.22.0 has been updated. Migrating your old cache. This is a one-time only operation. You can interrupt this and resume the migration later on by calling `transformers.utils.move_cache()`.\n"
     ]
    },
    {
     "data": {
      "application/vnd.jupyter.widget-view+json": {
       "model_id": "7c40a11ee66e4f49944d82cd05210423",
       "version_major": 2,
       "version_minor": 0
      },
      "text/plain": [
       "0it [00:00, ?it/s]"
      ]
     },
     "metadata": {},
     "output_type": "display_data"
    }
   ],
   "source": [
    "from ultralytics import YOLO\n",
    "import transformers"
   ]
  },
  {
   "cell_type": "code",
   "execution_count": null,
   "metadata": {},
   "outputs": [
    {
     "name": "stdout",
     "output_type": "stream",
     "text": [
      "PRO TIP 💡 Replace 'model=yolov5n.pt' with new 'model=yolov5nu.pt'.\n",
      "YOLOv5 'u' models are trained with https://github.com/ultralytics/ultralytics and feature improved performance vs standard YOLOv5 models trained with https://github.com/ultralytics/yolov5.\n",
      "\n",
      "Downloading https://github.com/ultralytics/assets/releases/download/v8.1.0/yolov5nu.pt to 'yolov5nu.pt'...\n"
     ]
    },
    {
     "name": "stderr",
     "output_type": "stream",
     "text": [
      "100%|██████████| 5.27M/5.27M [00:04<00:00, 1.17MB/s]\n"
     ]
    }
   ],
   "source": [
    "model_YOLO = YOLO(model=\"yolov5n.pt\")"
   ]
  },
  {
   "cell_type": "code",
   "execution_count": null,
   "metadata": {},
   "outputs": [],
   "source": [
    "# import xml.etree.ElementTree as ET\n",
    "\n",
    "# # Function to get the data from XML Annotation\n",
    "# def extract_info_from_xml(xml_file):\n",
    "#     root = ET.parse(xml_file).getroot()\n",
    "    \n",
    "#     # Initialise the info dict \n",
    "#     info_dict = {}\n",
    "#     info_dict['bboxes'] = []\n",
    "\n",
    "#     # Parse the XML Tree\n",
    "#     for elem in root:\n",
    "#         # Get the file name \n",
    "#         if elem.tag == \"filename\":\n",
    "#             info_dict['filename'] = elem.text\n",
    "\n",
    "#         # Get the image size\n",
    "#         elif elem.tag == \"size\":\n",
    "#             image_size = []\n",
    "#             for subelem in elem:\n",
    "#                 image_size.append(int(subelem.text))\n",
    "            \n",
    "#             info_dict['image_size'] = tuple(image_size)\n",
    "        \n",
    "#         # Get details of the bounding box \n",
    "#         elif elem.tag == \"object\":\n",
    "#             bbox = {}\n",
    "#             for subelem in elem:\n",
    "#                 if subelem.tag == \"name\":\n",
    "#                     bbox[\"class\"] = subelem.text\n",
    "                    \n",
    "#                 elif subelem.tag == \"bndbox\":\n",
    "#                     for subsubelem in subelem:\n",
    "#                         bbox[subsubelem.tag] = int(subsubelem.text)            \n",
    "#             info_dict['bboxes'].append(bbox)\n",
    "    \n",
    "#     return info_dict\n",
    "\n",
    "# # Dictionary that maps class names to IDs\n",
    "# class_name_to_id_mapping = {\"trafficlight\": 0,\n",
    "#                            \"stop\": 1,\n",
    "#                            \"speedlimit\": 2,\n",
    "#                            \"crosswalk\": 3}\n",
    "\n",
    "# # Convert the info dict to the required yolo format and write it to disk\n",
    "# def convert_to_yolov5(info_dict, rootpath='.', write_to_file=False):\n",
    "#     print_buffer = []\n",
    "    \n",
    "#     # For each bounding box\n",
    "#     for b in info_dict[\"bboxes\"]:\n",
    "#         try:\n",
    "#             class_id = class_name_to_id_mapping[b[\"class\"]]\n",
    "#         except KeyError:\n",
    "#             print(\"Invalid Class. Must be one from \", class_name_to_id_mapping.keys())\n",
    "        \n",
    "#         # Transform the bbox co-ordinates as per the format required by YOLO v5\n",
    "#         b_center_x = (b[\"xmin\"] + b[\"xmax\"]) / 2 \n",
    "#         b_center_y = (b[\"ymin\"] + b[\"ymax\"]) / 2\n",
    "#         b_width    = (b[\"xmax\"] - b[\"xmin\"])\n",
    "#         b_height   = (b[\"ymax\"] - b[\"ymin\"])\n",
    "        \n",
    "#         # Normalise the co-ordinates by the dimensions of the image\n",
    "#         image_w, image_h, image_c = info_dict[\"image_size\"]  \n",
    "#         b_center_x /= image_w \n",
    "#         b_center_y /= image_h \n",
    "#         b_width    /= image_w \n",
    "#         b_height   /= image_h \n",
    "        \n",
    "#         #Write the bbox details to the file \n",
    "#         print_buffer.append(\"{} {:.3f} {:.3f} {:.3f} {:.3f}\".format(class_id, b_center_x, b_center_y, b_width, b_height))\n",
    "\n",
    "#     if write_to_file:\n",
    "#         # Name of the file which we have to save \n",
    "#         save_file_name = os.path.join(rootpath, \"annotations\", info_dict[\"filename\"].replace(\"png\", \"txt\"))\n",
    "    \n",
    "#         # Save the annotation to disk\n",
    "#         print(\"\\n\".join(print_buffer), file= open(save_file_name, \"w\"))\n",
    "#     else:\n",
    "#         return print_buffer "
   ]
  },
  {
   "cell_type": "code",
   "execution_count": null,
   "metadata": {},
   "outputs": [
    {
     "name": "stdout",
     "output_type": "stream",
     "text": [
      "Requirement already satisfied: tqdm in /usr/local/lib/python3.11/site-packages (4.66.1)\n"
     ]
    },
    {
     "name": "stderr",
     "output_type": "stream",
     "text": [
      "100%|██████████| 877/877 [00:00<00:00, 1128.52it/s]\n"
     ]
    }
   ],
   "source": [
    "# import os\n",
    "# %pip install tqdm\n",
    "# from tqdm import tqdm\n",
    "\n",
    "# # Rootpath indicates the root folder where you have stored the road-sign-detection dataset\n",
    "# rootpath = \"/Users/moke/Comp Vision/groupProject/compVisionGroupProject/road-sign-detection\"\n",
    "\n",
    "# annotations = [os.path.join(rootpath,'annotations', x) for x in os.listdir(os.path.join(rootpath,'annotations')) if x[-3:] == \"xml\"]\n",
    "# annotations.sort()\n",
    "\n",
    "# for ann in tqdm(annotations):\n",
    "#     info_dict = extract_info_from_xml(ann)\n",
    "#     convert_to_yolov5(info_dict, rootpath=rootpath, write_to_file=True)\n",
    "# annotations = [os.path.join(rootpath,'annotations', x) for x in os.listdir(os.path.join(rootpath,'annotations')) if x[-3:] == \"txt\"]"
   ]
  },
  {
   "cell_type": "code",
   "execution_count": null,
   "metadata": {},
   "outputs": [],
   "source": [
    "# import random\n",
    "# !pip install --quiet scikit-learn\n",
    "# from sklearn.model_selection import train_test_split\n",
    "\n",
    "# images = [os.path.join(rootpath, 'images', x) for x in os.listdir(os.path.join(rootpath, 'images'))]\n",
    "# annotations = [os.path.join(rootpath,'annotations', x) for x in os.listdir(os.path.join(rootpath,'annotations')) if x[-3:] == \"txt\"]\n",
    "\n",
    "# images.sort()\n",
    "# annotations.sort()\n",
    "\n",
    "# train_images, val_images, train_annotations, val_annotations = train_test_split(images, annotations, test_size = 0.2, random_state = 1)\n",
    "# val_images, test_images, val_annotations, test_annotations = train_test_split(val_images, val_annotations, test_size = 0.5, random_state = 1)"
   ]
  },
  {
   "cell_type": "code",
   "execution_count": null,
   "metadata": {},
   "outputs": [],
   "source": [
    "# import shutil\n",
    "\n",
    "\n",
    "# def move_files_to_folder(list_of_files, destination_folder):\n",
    "#     for f in list_of_files:\n",
    "#         try:\n",
    "#             shutil.move(f, destination_folder)\n",
    "#         except:\n",
    "#             print(f)\n",
    "#             assert False"
   ]
  },
  {
   "cell_type": "code",
   "execution_count": null,
   "metadata": {},
   "outputs": [],
   "source": [
    "# move_files_to_folder(train_images, 'road-sign-detection/images/train')\n",
    "# move_files_to_folder(val_images, 'road-sign-detection/images/val')\n",
    "# move_files_to_folder(test_images, 'road-sign-detection/images/test')\n",
    "# move_files_to_folder(train_annotations, 'road-sign-detection/labels/train/')\n",
    "# move_files_to_folder(val_annotations, 'road-sign-detection/labels/val/')\n",
    "# move_files_to_folder(test_annotations, 'road-sign-detection/labels/test/')"
   ]
  },
  {
   "cell_type": "code",
   "execution_count": null,
   "metadata": {},
   "outputs": [],
   "source": []
  }
 ],
 "metadata": {
  "kernelspec": {
   "display_name": "Python 3",
   "language": "python",
   "name": "python3"
  },
  "language_info": {
   "codemirror_mode": {
    "name": "ipython",
    "version": 3
   },
   "file_extension": ".py",
   "mimetype": "text/x-python",
   "name": "python",
   "nbconvert_exporter": "python",
   "pygments_lexer": "ipython3",
   "version": "3.10.3"
  }
 },
 "nbformat": 4,
 "nbformat_minor": 2
}
